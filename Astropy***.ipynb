{
 "cells": [
  {
   "cell_type": "code",
   "execution_count": 386,
   "id": "aa7d987d-af58-4454-9e9c-89725aae3f6a",
   "metadata": {},
   "outputs": [],
   "source": [
    "%matplotlib inline\n",
    "import matplotlib.pyplot as plt \n",
    "import numpy as np\n",
    "import astropy"
   ]
  },
  {
   "cell_type": "markdown",
   "id": "f590d2c4-bc00-4aa8-b087-f7644ffab6c6",
   "metadata": {},
   "source": [
    "### Unit and Quantaties"
   ]
  },
  {
   "cell_type": "code",
   "execution_count": 387,
   "id": "6e326952-9d9d-433b-a373-64009f1af80b",
   "metadata": {},
   "outputs": [],
   "source": [
    "from astropy import units as u"
   ]
  },
  {
   "cell_type": "code",
   "execution_count": 388,
   "id": "27f66832-9a94-4521-8a68-b28e0a6cfe38",
   "metadata": {},
   "outputs": [
    {
     "name": "stdout",
     "output_type": "stream",
     "text": [
      "1.0 lyr\n"
     ]
    }
   ],
   "source": [
    "distance = 1 * u.lightyear  #1\n",
    "print(distance) "
   ]
  },
  {
   "cell_type": "code",
   "execution_count": 389,
   "id": "fea7a1a2-12b1-4ad7-b986-91d865beeae9",
   "metadata": {},
   "outputs": [
    {
     "name": "stdout",
     "output_type": "stream",
     "text": [
      "1.0 lyr\n"
     ]
    }
   ],
   "source": [
    "distance3 = u.Quantity('2 lyr')\n",
    "print(distance)"
   ]
  },
  {
   "cell_type": "code",
   "execution_count": 390,
   "id": "da4f6589-7d93-4b2b-993f-976a056d6806",
   "metadata": {},
   "outputs": [
    {
     "data": {
      "text/latex": [
       "$\\mathrm{m}$"
      ],
      "text/plain": [
       "Unit(\"m\")"
      ]
     },
     "execution_count": 390,
     "metadata": {},
     "output_type": "execute_result"
    }
   ],
   "source": [
    "u.meter"
   ]
  },
  {
   "cell_type": "code",
   "execution_count": 391,
   "id": "b0d11de6-29a7-4e5e-b3f4-86135802bf25",
   "metadata": {},
   "outputs": [
    {
     "name": "stdout",
     "output_type": "stream",
     "text": [
      "[1. 4. 6.] lyr\n",
      "[1. 3. 5.] lyr\n"
     ]
    }
   ],
   "source": [
    "distance1 = [1,4,6] * u.lightyear\n",
    "print(distance1)\n",
    "distance2 = np.array([1,3,5]) * u.lightyear\n",
    "print(distance2)"
   ]
  },
  {
   "cell_type": "code",
   "execution_count": 392,
   "id": "e61a3e94-3ba9-4339-a386-40f41b24a56f",
   "metadata": {},
   "outputs": [
    {
     "data": {
      "text/plain": [
       "array([1., 4., 6.])"
      ]
     },
     "execution_count": 392,
     "metadata": {},
     "output_type": "execute_result"
    }
   ],
   "source": [
    "distance1.value"
   ]
  },
  {
   "cell_type": "code",
   "execution_count": 393,
   "id": "6b4dbe03-4733-4eb6-a16d-6b8596c453c0",
   "metadata": {},
   "outputs": [
    {
     "data": {
      "text/plain": [
       "array([1., 3., 5.])"
      ]
     },
     "execution_count": 393,
     "metadata": {},
     "output_type": "execute_result"
    }
   ],
   "source": [
    "distance2.value"
   ]
  },
  {
   "cell_type": "code",
   "execution_count": 394,
   "id": "0fa3bd94-fbc5-4e62-8197-46f960a62422",
   "metadata": {},
   "outputs": [
    {
     "data": {
      "text/plain": [
       "astropy.units.quantity.Quantity"
      ]
     },
     "execution_count": 394,
     "metadata": {},
     "output_type": "execute_result"
    }
   ],
   "source": [
    "type(distance1)"
   ]
  },
  {
   "cell_type": "code",
   "execution_count": 395,
   "id": "de754536-6c97-4da4-b929-b13a252d6b1a",
   "metadata": {},
   "outputs": [
    {
     "data": {
      "text/plain": [
       "astropy.units.quantity.Quantity"
      ]
     },
     "execution_count": 395,
     "metadata": {},
     "output_type": "execute_result"
    }
   ],
   "source": [
    "type(distance2)"
   ]
  },
  {
   "cell_type": "code",
   "execution_count": 396,
   "id": "f9d65e7c-fed0-46ea-b57a-c4e4d461a2c7",
   "metadata": {},
   "outputs": [
    {
     "data": {
      "text/latex": [
       "$6 \\; \\mathrm{lyr}$"
      ],
      "text/plain": [
       "<Quantity 6. lyr>"
      ]
     },
     "execution_count": 396,
     "metadata": {},
     "output_type": "execute_result"
    }
   ],
   "source": [
    "np.max(distance1)"
   ]
  },
  {
   "cell_type": "code",
   "execution_count": 397,
   "id": "7ca9dd63-34b8-41b3-bbab-b63fbb52414f",
   "metadata": {},
   "outputs": [
    {
     "data": {
      "text/latex": [
       "$3.6666667 \\; \\mathrm{lyr}$"
      ],
      "text/plain": [
       "<Quantity 3.66666667 lyr>"
      ]
     },
     "execution_count": 397,
     "metadata": {},
     "output_type": "execute_result"
    }
   ],
   "source": [
    "np.mean(distance1)"
   ]
  },
  {
   "cell_type": "code",
   "execution_count": 398,
   "id": "1146a705-7904-431e-bd22-b81eab6359ea",
   "metadata": {},
   "outputs": [
    {
     "data": {
      "text/latex": [
       "$1.0986123 \\; \\mathrm{}$"
      ],
      "text/plain": [
       "<Quantity 1.09861229>"
      ]
     },
     "execution_count": 398,
     "metadata": {},
     "output_type": "execute_result"
    }
   ],
   "source": [
    "# In CASE of log we are required to give a reference value to make it dimensionless.\n",
    "np.log((30 * u.MeV) / (10 * u.MeV)) # without 10 MeV it will give an error"
   ]
  },
  {
   "cell_type": "code",
   "execution_count": 399,
   "id": "62d2ae3c-5946-47f2-ad67-114710c49f5a",
   "metadata": {},
   "outputs": [
    {
     "data": {
      "text/latex": [
       "$[9.4607305 \\times 10^{15},~3.7842922 \\times 10^{16},~5.6764383 \\times 10^{16}] \\; \\mathrm{m}$"
      ],
      "text/plain": [
       "<Quantity [9.46073047e+15, 3.78429219e+16, 5.67643828e+16] m>"
      ]
     },
     "execution_count": 399,
     "metadata": {},
     "output_type": "execute_result"
    }
   ],
   "source": [
    "distance1.to('meter') # Unit Conversion"
   ]
  },
  {
   "cell_type": "code",
   "execution_count": 400,
   "id": "c6e447bb-d5da-46bd-8c9d-f7a982c6a9d3",
   "metadata": {},
   "outputs": [
    {
     "data": {
      "text/latex": [
       "$[0.30660139,~1.2264056,~1.8396084] \\; \\mathrm{pc}$"
      ],
      "text/plain": [
       "<Quantity [0.30660139, 1.22640558, 1.83960836] pc>"
      ]
     },
     "execution_count": 400,
     "metadata": {},
     "output_type": "execute_result"
    }
   ],
   "source": [
    "distance1.to('parsec')"
   ]
  },
  {
   "cell_type": "code",
   "execution_count": 401,
   "id": "7f45dae2-3070-42aa-9cbb-459735a7951d",
   "metadata": {},
   "outputs": [
    {
     "name": "stdout",
     "output_type": "stream",
     "text": [
      "299792.458 km / s\n"
     ]
    }
   ],
   "source": [
    "speed_of_light = distance/ u.year # we have defined the distance in the first line of code.\n",
    "print(speed_of_light.to('km/s'))"
   ]
  },
  {
   "cell_type": "code",
   "execution_count": 402,
   "id": "cff52b8b-64f4-40c0-aff3-8558e73207e3",
   "metadata": {},
   "outputs": [
    {
     "name": "stdout",
     "output_type": "stream",
     "text": [
      "2.5902068371199996e+23 Angstrom / d\n"
     ]
    }
   ],
   "source": [
    "print(speed_of_light.to('angstrom/day'))  # Bhai SAha!!!"
   ]
  },
  {
   "cell_type": "code",
   "execution_count": 403,
   "id": "3af766f0-25ba-49ef-9286-bd5d5f49126e",
   "metadata": {},
   "outputs": [
    {
     "data": {
      "text/latex": [
       "$2.9979246 \\times 10^{8} \\; \\mathrm{\\frac{m}{s}}$"
      ],
      "text/plain": [
       "<Quantity 2.99792458e+08 m / s>"
      ]
     },
     "execution_count": 403,
     "metadata": {},
     "output_type": "execute_result"
    }
   ],
   "source": [
    "speed_of_light.si  #SI units"
   ]
  },
  {
   "cell_type": "code",
   "execution_count": 404,
   "id": "42e2ce3c-a262-4ffe-9cc8-e090ff68a3a3",
   "metadata": {},
   "outputs": [
    {
     "data": {
      "text/latex": [
       "$2.9979246 \\times 10^{10} \\; \\mathrm{\\frac{cm}{s}}$"
      ],
      "text/plain": [
       "<Quantity 2.99792458e+10 cm / s>"
      ]
     },
     "execution_count": 404,
     "metadata": {},
     "output_type": "execute_result"
    }
   ],
   "source": [
    "speed_of_light.cgs  #CGS units"
   ]
  },
  {
   "cell_type": "markdown",
   "id": "ce32f8a9-df09-44bd-b52e-fb4f613b41f3",
   "metadata": {},
   "source": [
    "### Equivalencies"
   ]
  },
  {
   "cell_type": "code",
   "execution_count": 405,
   "id": "918e7f50-0265-40fd-8f3d-c5450af5ad2f",
   "metadata": {},
   "outputs": [
    {
     "data": {
      "text/latex": [
       "$1.2407003 \\; \\mathrm{MeV}$"
      ],
      "text/plain": [
       "<Quantity 1.24070031 MeV>"
      ]
     },
     "execution_count": 405,
     "metadata": {},
     "output_type": "execute_result"
    }
   ],
   "source": [
    "frequency = 3e20 * u.hertz\n",
    "frequency.to('MeV',equivalencies = u.spectral())  # by using equivalencies = u.spectra() we are able to do so"
   ]
  },
  {
   "cell_type": "code",
   "execution_count": 406,
   "id": "3221accb-2253-4f0a-b4fc-bc43765df08e",
   "metadata": {},
   "outputs": [
    {
     "data": {
      "text/latex": [
       "$0.99930819 \\; \\mathrm{pm}$"
      ],
      "text/plain": [
       "<Quantity 0.99930819 pm>"
      ]
     },
     "execution_count": 406,
     "metadata": {},
     "output_type": "execute_result"
    }
   ],
   "source": [
    "frequency.to('picometer',equivalencies=u.spectral())"
   ]
  },
  {
   "cell_type": "code",
   "execution_count": 407,
   "id": "011ecff8-0b55-412d-a656-19b19761d73b",
   "metadata": {},
   "outputs": [],
   "source": [
    "# Temperature\n",
    "temperature = 25 * u.Celsius"
   ]
  },
  {
   "cell_type": "code",
   "execution_count": 408,
   "id": "68a9d587-0df2-4ebf-aeaf-5b2bbf378348",
   "metadata": {},
   "outputs": [
    {
     "data": {
      "text/latex": [
       "$298.15 \\; \\mathrm{K}$"
      ],
      "text/plain": [
       "<Quantity 298.15 K>"
      ]
     },
     "execution_count": 408,
     "metadata": {},
     "output_type": "execute_result"
    }
   ],
   "source": [
    "temperature.to('K',equivalencies=u.temperature()) # cool Room Temperature"
   ]
  },
  {
   "cell_type": "code",
   "execution_count": 409,
   "id": "797e690e-a289-4806-a5bf-24fb71bb1599",
   "metadata": {},
   "outputs": [
    {
     "name": "stdout",
     "output_type": "stream",
     "text": [
      "77.0 deg_F\n"
     ]
    }
   ],
   "source": [
    "with u.imperial.enable():\n",
    "    print(temperature.to(\"deg_F\",equivalencies=u.temperature())) "
   ]
  },
  {
   "cell_type": "markdown",
   "id": "860de85f-5427-4a11-b8b8-bc13f9b9dbc6",
   "metadata": {},
   "source": [
    "#### Constants (Special)"
   ]
  },
  {
   "cell_type": "code",
   "execution_count": 410,
   "id": "c97a2798-dad9-4c60-bbf4-1dd4692ed5d6",
   "metadata": {},
   "outputs": [
    {
     "name": "stdout",
     "output_type": "stream",
     "text": [
      "1079252848.8 km / h\n"
     ]
    }
   ],
   "source": [
    "from astropy import constants as const\n",
    "print(const.c.to('km/hour')) # speed of light"
   ]
  },
  {
   "cell_type": "code",
   "execution_count": 411,
   "id": "0c6a8a81-7edf-4ccb-a196-1493ec153aa2",
   "metadata": {},
   "outputs": [],
   "source": [
    "@u.quantity_input(frequency=u.hertz,temperature=u.K)  # defining the units to avoid any error\n",
    "def Blackbody(frequency,temperature):\n",
    "    pre_fac = 2 * (const.h * frequency**3)/const.c**2\n",
    "    expo_fac = 1/(np.exp((const.h* frequency)/(const.k_B * temperature))-1)\n",
    "    return pre_fac * expo_fac"
   ]
  },
  {
   "cell_type": "code",
   "execution_count": 412,
   "id": "55515e46-37e6-44ce-a5c5-de02b6527abc",
   "metadata": {},
   "outputs": [
    {
     "data": {
      "text/latex": [
       "$1.1060492 \\times 10^{-32} \\; \\mathrm{\\frac{Hz^{3}\\,s^{3}\\,J}{m^{2}}}$"
      ],
      "text/plain": [
       "<Quantity 1.10604915e-32 Hz3 J s3 / m2>"
      ]
     },
     "execution_count": 412,
     "metadata": {},
     "output_type": "execute_result"
    }
   ],
   "source": [
    "Blackbody(300*u.hertz,400*u.K)"
   ]
  },
  {
   "cell_type": "markdown",
   "id": "d3fdc383-f2e0-4bd1-b2c8-4bfa016c3acd",
   "metadata": {},
   "source": [
    "#### Interfacing quantaties with third-party code"
   ]
  },
  {
   "cell_type": "code",
   "execution_count": 413,
   "id": "caf2eefe-0630-4051-9ba7-af8677ffce22",
   "metadata": {},
   "outputs": [
    {
     "name": "stderr",
     "output_type": "stream",
     "text": [
      "/opt/anaconda3/lib/python3.8/site-packages/astropy/units/quantity.py:613: RuntimeWarning: divide by zero encountered in true_divide\n",
      "  result = super().__array_ufunc__(function, method, *arrays, **kwargs)\n"
     ]
    },
    {
     "data": {
      "image/png": "[encoded data removed]",
      "text/plain": [
       "<Figure size 1152x864 with 1 Axes>"
      ]
     },
     "metadata": {
      "needs_background": "light"
     },
     "output_type": "display_data"
    }
   ],
   "source": [
    "from astropy.visualization import quantity_support \n",
    "plt.figure(figsize = (16,12))\n",
    "temperature = 1200 * u.K\n",
    "frequencies = np.linspace(1E-5, 0.5e15, 1000) * u.hertz\n",
    "radiation = Blackbody(frequency = frequencies,temperature = temperature)\n",
    "\n",
    "with quantity_support():\n",
    "    plt.plot(frequencies,radiation)"
   ]
  },
  {
   "cell_type": "code",
   "execution_count": 414,
   "id": "0ffe6110-56e4-4037-9b5c-2cc913ce7327",
   "metadata": {},
   "outputs": [
    {
     "name": "stdout",
     "output_type": "stream",
     "text": [
      "[ 1.          1.29154967  1.66810054  2.15443469  2.7825594   3.59381366\n",
      "  4.64158883  5.9948425   7.74263683 10.        ] MeV\n"
     ]
    }
   ],
   "source": [
    "# log functions\n",
    "emin, emax =[1,10] * u.MeV\n",
    "energies = np.logspace(np.log10(emin.value),np.log10(emax.value),10) * emin.unit\n",
    "print(energies)\n",
    "# The numpy. logspace() function returns number spaces evenly w.r.t interval on a log scale."
   ]
  },
  {
   "cell_type": "code",
   "execution_count": 415,
   "id": "41abec41-6cc1-483b-a5ab-60afb03d3684",
   "metadata": {},
   "outputs": [
    {
     "name": "stdout",
     "output_type": "stream",
     "text": [
      "[ 1.          1.29154967  1.66810054  2.15443469  2.7825594   3.59381366\n",
      "  4.64158883  5.9948425   7.74263683 10.        ] MeV\n"
     ]
    }
   ],
   "source": [
    "energies = np.geomspace(emin,emax,10) #G.P\n",
    "print(energies)\n",
    "#geomspace() is used to return numbers spaced evenly on a log scale (a geometric progression).\n",
    "#This is similar to numpy. logspace() but with endpoints specified directly. Each output sample is a constant multiple of the previous."
   ]
  },
  {
   "cell_type": "markdown",
   "id": "f721c0e6-ffce-4373-acf6-be40512f8644",
   "metadata": {},
   "source": [
    "### Performance Booster (Cheats)"
   ]
  },
  {
   "cell_type": "code",
   "execution_count": 416,
   "id": "d2355803-9a5a-48d4-b038-a0536dd29480",
   "metadata": {},
   "outputs": [],
   "source": [
    "values = np.ones((500,500,500))  # (500 rows, 500 columns, 500 ones matrice)"
   ]
  },
  {
   "cell_type": "code",
   "execution_count": 417,
   "id": "ff87d985-760f-41b7-8600-f55a1c90d5b8",
   "metadata": {},
   "outputs": [
    {
     "name": "stdout",
     "output_type": "stream",
     "text": [
      "907 ms ± 358 ms per loop (mean ± std. dev. of 7 runs, 1 loop each)\n"
     ]
    }
   ],
   "source": [
    "%%timeit  #1\n",
    "quantity = values * u.kpc\n",
    "# the magic commands %timeit and %%timeit is used to measure the execution time of your code."
   ]
  },
  {
   "cell_type": "code",
   "execution_count": 418,
   "id": "658d8692-8414-4981-87bd-fa7c832cdb8f",
   "metadata": {},
   "outputs": [
    {
     "name": "stdout",
     "output_type": "stream",
     "text": [
      "3.93 µs ± 33.3 ns per loop (mean ± std. dev. of 7 runs, 100000 loops each)\n"
     ]
    }
   ],
   "source": [
    "%%timeit #2\n",
    "quantity = u.Quantity(values,unit =\"kpc\",copy=False)\n",
    "# This command takes much less time"
   ]
  },
  {
   "cell_type": "markdown",
   "id": "febda34f-af89-44b2-88ac-ba171d6d4ca0",
   "metadata": {},
   "source": [
    "## Coordinates"
   ]
  },
  {
   "cell_type": "code",
   "execution_count": 419,
   "id": "eb7e2946-0466-43df-87f0-623cf76bc001",
   "metadata": {},
   "outputs": [],
   "source": [
    "from astropy.coordinates import SkyCoord"
   ]
  },
  {
   "cell_type": "code",
   "execution_count": 420,
   "id": "ea1ac657-8364-44d5-9927-f3837ca62187",
   "metadata": {},
   "outputs": [
    {
     "name": "stdout",
     "output_type": "stream",
     "text": [
      "<SkyCoord (ICRS): (ra, dec) in deg\n",
      "    (77.2969204, 30.1680858)>\n"
     ]
    }
   ],
   "source": [
    "position_crab = SkyCoord(77.2969204 * u.deg,30.1680858 * u.deg ,frame='icrs')  # Jagadhri, Haryana\n",
    "print(position_crab)"
   ]
  },
  {
   "cell_type": "code",
   "execution_count": 421,
   "id": "aa9cb1d5-1a94-4ec4-ba78-c6e7a04e8aa2",
   "metadata": {},
   "outputs": [
    {
     "name": "stdout",
     "output_type": "stream",
     "text": [
      "<SkyCoord (Galactic): (l, b) in deg\n",
      "    [(345. , -0.1), (234.8,  0.2)]>\n"
     ]
    }
   ],
   "source": [
    "positions = SkyCoord([345.,234.8]*u.deg,[-0.1,0.2]* u.deg,frame='galactic')\n",
    "print(positions)"
   ]
  },
  {
   "cell_type": "code",
   "execution_count": 422,
   "id": "8147ea0f-1978-4524-a75e-7dfae9ce40c1",
   "metadata": {},
   "outputs": [
    {
     "name": "stdout",
     "output_type": "stream",
     "text": [
      "<SkyCoord (ICRS): (ra, dec) in deg\n",
      "    (83.63320833, 22.01447222)>\n"
     ]
    }
   ],
   "source": [
    "# in terms of day,hour,minute,second\n",
    "position_crab = SkyCoord('5h34m31.97s', '22d0m52.10s', frame='icrs')\n",
    "print(position_crab)"
   ]
  },
  {
   "cell_type": "code",
   "execution_count": 423,
   "id": "8c2d90b0-9daa-4609-aeb8-e91145d57b33",
   "metadata": {},
   "outputs": [
    {
     "data": {
      "text/plain": [
       "<SkyCoord (ICRS): (ra, dec) in deg\n",
       "    (83.63311446, 22.01448714)>"
      ]
     },
     "execution_count": 423,
     "metadata": {},
     "output_type": "execute_result"
    }
   ],
   "source": [
    "SkyCoord.from_name('Crab')  # position coordinate of crab nebula"
   ]
  },
  {
   "cell_type": "code",
   "execution_count": 424,
   "id": "f0d4fa7c-4d26-4faa-b720-3b0c7a959df8",
   "metadata": {},
   "outputs": [
    {
     "data": {
      "text/plain": [
       "<SkyCoord (ICRS): (ra, dec) in deg\n",
       "    (37.95456067, 89.26410897)>"
      ]
     },
     "execution_count": 424,
     "metadata": {},
     "output_type": "execute_result"
    }
   ],
   "source": [
    "SkyCoord.from_name('Polaris')  # position coordinate of Polaris nebula"
   ]
  },
  {
   "cell_type": "code",
   "execution_count": 425,
   "id": "8f4cbd96-01b4-45fd-90d5-a692395b65ee",
   "metadata": {},
   "outputs": [],
   "source": [
    "position_polaris = SkyCoord.from_name('Polaris') \n",
    "position_polaris2 = position_polaris1.transform_to('galactic')"
   ]
  },
  {
   "cell_type": "code",
   "execution_count": 426,
   "id": "dba851a5-d229-48e0-9b20-c9844579fd19",
   "metadata": {},
   "outputs": [
    {
     "name": "stdout",
     "output_type": "stream",
     "text": [
      "<SkyCoord (Galactic): (l, b) in deg\n",
      "    (184.55754381, -5.78427369)>\n"
     ]
    }
   ],
   "source": [
    "# inter-conversion of icrs and galactic coorniate\n",
    "pos_gal = position_crab.transform_to('galactic')\n",
    "print(pos_gal)"
   ]
  },
  {
   "cell_type": "code",
   "execution_count": 427,
   "id": "87d796cc-395a-48c3-9b9f-f3b9b116d78c",
   "metadata": {},
   "outputs": [
    {
     "data": {
      "text/latex": [
       "$37^\\circ57{}^\\prime16.418412{}^{\\prime\\prime}$"
      ],
      "text/plain": [
       "<Longitude 37.95456067 deg>"
      ]
     },
     "execution_count": 427,
     "metadata": {},
     "output_type": "execute_result"
    }
   ],
   "source": [
    "# Access to latitude and longitude \n",
    "position_polaris.data.lon # hour-minute-second  while using icrs"
   ]
  },
  {
   "cell_type": "code",
   "execution_count": 428,
   "id": "17b89190-d0f3-42ae-80f8-c709b9f0ba3f",
   "metadata": {},
   "outputs": [
    {
     "data": {
      "text/latex": [
       "$2.15165\\mathrm{rad}$"
      ],
      "text/plain": [
       "<Longitude 2.1516515 rad>"
      ]
     },
     "execution_count": 428,
     "metadata": {},
     "output_type": "execute_result"
    }
   ],
   "source": [
    "position_polaris2.data.lon # RAdians when using galactic"
   ]
  },
  {
   "cell_type": "markdown",
   "id": "79bf15ad-2c4d-4998-8756-44ca0af6923e",
   "metadata": {},
   "source": [
    "## Measuring Distances between Positions in SKY"
   ]
  },
  {
   "cell_type": "code",
   "execution_count": 429,
   "id": "d0171fae-95a8-46f0-839e-dc532941005a",
   "metadata": {},
   "outputs": [
    {
     "data": {
      "text/plain": [
       "<SkyCoord (ICRS): (ra, dec) in deg\n",
       "    (266.416826, -29.007797)>"
      ]
     },
     "execution_count": 429,
     "metadata": {},
     "output_type": "execute_result"
    }
   ],
   "source": [
    "SkyCoord.from_name('Saga').transform_to('icrs')"
   ]
  },
  {
   "cell_type": "code",
   "execution_count": 430,
   "id": "ba5b10d2-d48a-427b-9a42-bb3c4e52a420",
   "metadata": {},
   "outputs": [
    {
     "data": {
      "text/latex": [
       "$119^\\circ29{}^\\prime39.45602992{}^{\\prime\\prime}$"
      ],
      "text/plain": [
       "<Angle 119.49429334 deg>"
      ]
     },
     "execution_count": 430,
     "metadata": {},
     "output_type": "execute_result"
    }
   ],
   "source": [
    "# Angular Distance between sagaterious and Polaris\n",
    "position_saga = SkyCoord (266.416826 * u.deg , -29.007797 * u.deg,frame='icrs') \n",
    "position_saga.separation(position_polaris)"
   ]
  },
  {
   "cell_type": "code",
   "execution_count": 431,
   "id": "3788b9a5-2e84-4030-a5d8-b214ce17b895",
   "metadata": {},
   "outputs": [
    {
     "data": {
      "text/plain": [
       "<SkyCoord (ICRS): (ra, dec) in deg\n",
       "    (83.63320833, 23.01447222)>"
      ]
     },
     "execution_count": 431,
     "metadata": {},
     "output_type": "execute_result"
    }
   ],
   "source": [
    "# Inverse operation\n",
    "position_crab.directional_offset_by(\n",
    "    separation = 1* u.deg ,position_angle = 0 * u.deg\n",
    ")"
   ]
  },
  {
   "cell_type": "markdown",
   "id": "8059ad94-e909-4b84-b95e-27e9ac26b9c1",
   "metadata": {},
   "source": [
    "#### ALT - AZ coordinates (optional)\n",
    "**_In various cirumstances, e.g. for planning observations, it can be usefull to transform a sky coordinate into a position in the horizontal coordinate system given a location on earth and a time_**"
   ]
  },
  {
   "cell_type": "code",
   "execution_count": 432,
   "id": "8a6f8126-80a6-46d0-8d56-4831b69bbf99",
   "metadata": {},
   "outputs": [],
   "source": [
    "from astropy.coordinates import EarthLocation , AltAz\n",
    "from astropy.time import Time"
   ]
  },
  {
   "cell_type": "code",
   "execution_count": 433,
   "id": "acf84054-aff2-4c06-acaf-ee74c55e0dbc",
   "metadata": {},
   "outputs": [
    {
     "name": "stdout",
     "output_type": "stream",
     "text": [
      "GeodeticLocation(lon=<Longitude 30.1680858 deg>, lat=<Latitude 77.2969204 deg>, height=<Quantity 0. m>)\n"
     ]
    }
   ],
   "source": [
    "Jagadhri = EarthLocation(lat = 77.2969204 * u.deg,lon = 30.1680858 * u.deg)\n",
    "print(Jagadhri.geodetic)"
   ]
  },
  {
   "cell_type": "code",
   "execution_count": 434,
   "id": "31bab86b-efb5-4633-85da-7b8280c4e816",
   "metadata": {},
   "outputs": [
    {
     "name": "stdout",
     "output_type": "stream",
     "text": [
      "(1216456.92644372, 707088.0333519, 6200146.14198721) m\n"
     ]
    }
   ],
   "source": [
    "print(Jagadhri)"
   ]
  },
  {
   "cell_type": "code",
   "execution_count": 435,
   "id": "65eb5fde-9b38-494c-853a-7d41eee2f866",
   "metadata": {},
   "outputs": [
    {
     "name": "stdout",
     "output_type": "stream",
     "text": [
      "2022-03-12 19:53:10.876988\n"
     ]
    }
   ],
   "source": [
    "now = Time.now()\n",
    "print(now)"
   ]
  },
  {
   "cell_type": "markdown",
   "id": "82d9376a-6ebb-4d67-bffc-47fe63022000",
   "metadata": {},
   "source": [
    "__Now we can define a horizontal coordinate system using the AltAz class and use it to convert from the sky coordinate:__"
   ]
  },
  {
   "cell_type": "code",
   "execution_count": 436,
   "id": "b19074ba-0a10-4724-b346-042daa273b09",
   "metadata": {},
   "outputs": [
    {
     "name": "stdout",
     "output_type": "stream",
     "text": [
      "<SkyCoord (ICRS): (ra, dec) in deg\n",
      "    (37.95456067, 89.26410897)>\n"
     ]
    }
   ],
   "source": [
    "altaz = AltAz(obstime = now,location= Jagadhri)\n",
    "polaris_altaz = position_polaris.transform_to(altaz)\n",
    "print(position_polaris)"
   ]
  },
  {
   "cell_type": "markdown",
   "id": "69cbb42f-6e64-4b08-bb51-2264554ce7ab",
   "metadata": {},
   "source": [
    "### Tables"
   ]
  },
  {
   "cell_type": "code",
   "execution_count": 437,
   "id": "2760b4fe-4738-4cac-8161-33a16801e38b",
   "metadata": {},
   "outputs": [],
   "source": [
    "from astropy.table import Table"
   ]
  },
  {
   "cell_type": "code",
   "execution_count": 438,
   "id": "abeb517d-12ab-42a6-a0fd-3d1b4fcfca51",
   "metadata": {},
   "outputs": [],
   "source": [
    "table = Table()"
   ]
  },
  {
   "cell_type": "markdown",
   "id": "dc8b66bb-0ee9-4c7c-b041-27157537d9f1",
   "metadata": {},
   "source": [
    "__We add columns to the table like we would add entries to a dictionary__"
   ]
  },
  {
   "cell_type": "code",
   "execution_count": 439,
   "id": "96cb4e04-88b5-473c-9f72-16ea96a892cf",
   "metadata": {},
   "outputs": [],
   "source": [
    "table['Source_Name'] = ['Crab', 'Sag A*', 'Cas A', 'Vela Junior']\n",
    "table['GLON'] = [184.5575438, 0, 111.74169477, 266.25914205] * u.deg # galactic longitude\n",
    "table['GLAT'] = [-5.78427369, 0, -2.13544151, -1.21985818] * u.deg  # galactic latitude\n",
    "table['Source_Class'] = ['pwn', 'unc', 'snr', 'snr']"
   ]
  },
  {
   "cell_type": "code",
   "execution_count": 440,
   "id": "afaee3b8-b756-48a7-85f4-aa16214d3b12",
   "metadata": {},
   "outputs": [
    {
     "data": {
      "text/html": [
       "<div><i>Table length=4</i>\n",
       "<table id=\"table140592041353904\" class=\"table-striped table-bordered table-condensed\">\n",
       "<thead><tr><th>Source_Name</th><th>GLON</th><th>GLAT</th><th>Source_Class</th></tr></thead>\n",
       "<thead><tr><th></th><th>deg</th><th>deg</th><th></th></tr></thead>\n",
       "<thead><tr><th>str11</th><th>float64</th><th>float64</th><th>str3</th></tr></thead>\n",
       "<tr><td>Crab</td><td>184.5575438</td><td>-5.78427369</td><td>pwn</td></tr>\n",
       "<tr><td>Sag A*</td><td>0.0</td><td>0.0</td><td>unc</td></tr>\n",
       "<tr><td>Cas A</td><td>111.74169477</td><td>-2.13544151</td><td>snr</td></tr>\n",
       "<tr><td>Vela Junior</td><td>266.25914205</td><td>-1.21985818</td><td>snr</td></tr>\n",
       "</table></div>"
      ],
      "text/plain": [
       "<Table length=4>\n",
       "Source_Name     GLON         GLAT    Source_Class\n",
       "                deg          deg                 \n",
       "   str11      float64      float64       str3    \n",
       "----------- ------------ ----------- ------------\n",
       "       Crab  184.5575438 -5.78427369          pwn\n",
       "     Sag A*          0.0         0.0          unc\n",
       "      Cas A 111.74169477 -2.13544151          snr\n",
       "Vela Junior 266.25914205 -1.21985818          snr"
      ]
     },
     "execution_count": 440,
     "metadata": {},
     "output_type": "execute_result"
    }
   ],
   "source": [
    "table"
   ]
  },
  {
   "cell_type": "code",
   "execution_count": 441,
   "id": "dab37910-717d-4752-9bd7-d2b23a18217a",
   "metadata": {},
   "outputs": [
    {
     "data": {
      "text/plain": [
       "<TableColumns names=('Source_Name','GLON','GLAT','Source_Class')>"
      ]
     },
     "execution_count": 441,
     "metadata": {},
     "output_type": "execute_result"
    }
   ],
   "source": [
    "table.columns"
   ]
  },
  {
   "cell_type": "code",
   "execution_count": 442,
   "id": "7583110a-e590-4bc6-b256-c212275e6a52",
   "metadata": {},
   "outputs": [
    {
     "data": {
      "text/html": [
       "<div><i>Table length=4</i>\n",
       "<table id=\"table140592049427936\" class=\"table-striped table-bordered table-condensed\">\n",
       "<thead><tr><th>GLON</th><th>Source_Name</th></tr></thead>\n",
       "<thead><tr><th>deg</th><th></th></tr></thead>\n",
       "<thead><tr><th>float64</th><th>str11</th></tr></thead>\n",
       "<tr><td>184.5575438</td><td>Crab</td></tr>\n",
       "<tr><td>0.0</td><td>Sag A*</td></tr>\n",
       "<tr><td>111.74169477</td><td>Cas A</td></tr>\n",
       "<tr><td>266.25914205</td><td>Vela Junior</td></tr>\n",
       "</table></div>"
      ],
      "text/plain": [
       "<Table length=4>\n",
       "    GLON     Source_Name\n",
       "    deg                 \n",
       "  float64       str11   \n",
       "------------ -----------\n",
       " 184.5575438        Crab\n",
       "         0.0      Sag A*\n",
       "111.74169477       Cas A\n",
       "266.25914205 Vela Junior"
      ]
     },
     "execution_count": 442,
     "metadata": {},
     "output_type": "execute_result"
    }
   ],
   "source": [
    "table['GLON','Source_Name']"
   ]
  },
  {
   "cell_type": "code",
   "execution_count": 443,
   "id": "fcfa8b23-796b-483e-8d37-0c4785b587bf",
   "metadata": {},
   "outputs": [
    {
     "data": {
      "text/latex": [
       "$[-347.05642,~0,~-128.12649,~-73.191491] \\; \\mathrm{{}^{\\prime}}$"
      ],
      "text/plain": [
       "<Quantity [-347.0564214,    0.       , -128.1264906,  -73.1914908] arcmin>"
      ]
     },
     "execution_count": 443,
     "metadata": {},
     "output_type": "execute_result"
    }
   ],
   "source": [
    "table['GLAT'].quantity.to('arcmin') # value"
   ]
  },
  {
   "cell_type": "code",
   "execution_count": 444,
   "id": "4a9773bf-a42b-4f0b-898a-e26377d619b8",
   "metadata": {},
   "outputs": [
    {
     "data": {
      "text/html": [
       "<div><i>Table length=2</i>\n",
       "<table id=\"table140591466585824\" class=\"table-striped table-bordered table-condensed\">\n",
       "<thead><tr><th>Source_Name</th><th>GLON</th><th>GLAT</th><th>Source_Class</th></tr></thead>\n",
       "<thead><tr><th></th><th>deg</th><th>deg</th><th></th></tr></thead>\n",
       "<thead><tr><th>str11</th><th>float64</th><th>float64</th><th>str3</th></tr></thead>\n",
       "<tr><td>Crab</td><td>184.5575438</td><td>-5.78427369</td><td>pwn</td></tr>\n",
       "<tr><td>Sag A*</td><td>0.0</td><td>0.0</td><td>unc</td></tr>\n",
       "</table></div>"
      ],
      "text/plain": [
       "<Table length=2>\n",
       "Source_Name     GLON        GLAT    Source_Class\n",
       "                deg         deg                 \n",
       "   str11      float64     float64       str3    \n",
       "----------- ----------- ----------- ------------\n",
       "       Crab 184.5575438 -5.78427369          pwn\n",
       "     Sag A*         0.0         0.0          unc"
      ]
     },
     "execution_count": 444,
     "metadata": {},
     "output_type": "execute_result"
    }
   ],
   "source": [
    "table[0:2]"
   ]
  },
  {
   "cell_type": "code",
   "execution_count": 445,
   "id": "231c1552-4684-49dd-86ad-36ada695c3b4",
   "metadata": {},
   "outputs": [
    {
     "name": "stdout",
     "output_type": "stream",
     "text": [
      "[False  True False False]\n",
      "------------------------------------\n"
     ]
    },
    {
     "data": {
      "text/html": [
       "<div><i>Table length=1</i>\n",
       "<table id=\"table140591466583712\" class=\"table-striped table-bordered table-condensed\">\n",
       "<thead><tr><th>Source_Name</th><th>GLON</th><th>GLAT</th><th>Source_Class</th></tr></thead>\n",
       "<thead><tr><th></th><th>deg</th><th>deg</th><th></th></tr></thead>\n",
       "<thead><tr><th>str11</th><th>float64</th><th>float64</th><th>str3</th></tr></thead>\n",
       "<tr><td>Sag A*</td><td>0.0</td><td>0.0</td><td>unc</td></tr>\n",
       "</table></div>"
      ],
      "text/plain": [
       "<Table length=1>\n",
       "Source_Name   GLON    GLAT  Source_Class\n",
       "              deg     deg               \n",
       "   str11    float64 float64     str3    \n",
       "----------- ------- ------- ------------\n",
       "     Sag A*     0.0     0.0          unc"
      ]
     },
     "execution_count": 445,
     "metadata": {},
     "output_type": "execute_result"
    }
   ],
   "source": [
    "# using Boolean\n",
    "selection = table['Source_Name'] == 'Sag A*'\n",
    "print(selection)\n",
    "print(\"------------------------------------\")\n",
    "table[selection]"
   ]
  },
  {
   "cell_type": "markdown",
   "id": "6b2c169d-59e8-4058-b96b-dccb1e2be1c4",
   "metadata": {},
   "source": [
    "## Reading-Writting Table to disc"
   ]
  },
  {
   "cell_type": "code",
   "execution_count": 446,
   "id": "6d1d382f-de70-497e-a3fa-30d2d090d08a",
   "metadata": {},
   "outputs": [],
   "source": [
    "table.write('//Users/dhruvkumar/Desktop/h_m51_h_s20_drz_sci',format = 'fits',overwrite=True) # we created a fits file here."
   ]
  },
  {
   "cell_type": "code",
   "execution_count": 447,
   "id": "0c5e8851-4b94-4a5b-8947-142578ecfd39",
   "metadata": {},
   "outputs": [
    {
     "data": {
      "text/html": [
       "<div><i>Table length=4</i>\n",
       "<table id=\"table140592036210096\" class=\"table-striped table-bordered table-condensed\">\n",
       "<thead><tr><th>Source_Name</th><th>GLON</th><th>GLAT</th><th>Source_Class</th></tr></thead>\n",
       "<thead><tr><th></th><th>deg</th><th>deg</th><th></th></tr></thead>\n",
       "<thead><tr><th>bytes11</th><th>float64</th><th>float64</th><th>bytes3</th></tr></thead>\n",
       "<tr><td>Crab</td><td>184.5575438</td><td>-5.78427369</td><td>pwn</td></tr>\n",
       "<tr><td>Sag A*</td><td>0.0</td><td>0.0</td><td>unc</td></tr>\n",
       "<tr><td>Cas A</td><td>111.74169477</td><td>-2.13544151</td><td>snr</td></tr>\n",
       "<tr><td>Vela Junior</td><td>266.25914205</td><td>-1.21985818</td><td>snr</td></tr>\n",
       "</table></div>"
      ],
      "text/plain": [
       "<Table length=4>\n",
       "Source_Name     GLON         GLAT    Source_Class\n",
       "                deg          deg                 \n",
       "  bytes11     float64      float64      bytes3   \n",
       "----------- ------------ ----------- ------------\n",
       "       Crab  184.5575438 -5.78427369          pwn\n",
       "     Sag A*          0.0         0.0          unc\n",
       "      Cas A 111.74169477 -2.13544151          snr\n",
       "Vela Junior 266.25914205 -1.21985818          snr"
      ]
     },
     "execution_count": 447,
     "metadata": {},
     "output_type": "execute_result"
    }
   ],
   "source": [
    "table.read('//Users/dhruvkumar/Desktop/h_m51_h_s20_drz_sci') #We read the created fits file"
   ]
  },
  {
   "cell_type": "code",
   "execution_count": 448,
   "id": "85f978f1-41f1-4347-b72c-8452e91c6685",
   "metadata": {},
   "outputs": [],
   "source": [
    "table.write('//Users/dhruvkumar/Desktop/example.ecsv',overwrite = True,format = 'ascii.ecsv') # created a ecsv file"
   ]
  },
  {
   "cell_type": "code",
   "execution_count": 449,
   "id": "567b2895-d92a-4c04-b6f3-ec8e77fc2524",
   "metadata": {},
   "outputs": [
    {
     "name": "stdout",
     "output_type": "stream",
     "text": [
      "# %ECSV 1.0\n",
      "# ---\n",
      "# datatype:\n",
      "# - {name: Source_Name, datatype: string}\n",
      "# - {name: GLON, unit: deg, datatype: float64}\n",
      "# - {name: GLAT, unit: deg, datatype: float64}\n",
      "# - {name: Source_Class, datatype: string}\n",
      "# schema: astropy-2.0\n",
      "Source_Name GLON GLAT Source_Class\n",
      "Crab 184.5575438 -5.78427369 pwn\n",
      "\"Sag A*\" 0.0 0.0 unc\n",
      "\"Cas A\" 111.74169477 -2.13544151 snr\n",
      "\"Vela Junior\" 266.25914205 -1.21985818 snr\n"
     ]
    }
   ],
   "source": [
    "! cat //Users/dhruvkumar/Desktop/example.ecsv # Here, we get the meta data as well"
   ]
  },
  {
   "cell_type": "markdown",
   "id": "840be156-d55b-4181-8a7b-a0f23bb7523e",
   "metadata": {},
   "source": [
    "### Indexing and Grouping"
   ]
  },
  {
   "cell_type": "code",
   "execution_count": 450,
   "id": "f18528b1-bff7-4b89-a459-1c02c16b4f97",
   "metadata": {},
   "outputs": [],
   "source": [
    "table.add_index(colnames=\"Source_Name\")"
   ]
  },
  {
   "cell_type": "code",
   "execution_count": 451,
   "id": "43b55b18-3976-4045-ba9e-0b3d4a13af71",
   "metadata": {},
   "outputs": [
    {
     "data": {
      "text/html": [
       "<i>Row index=2</i>\n",
       "<table id=\"table140592041353904\">\n",
       "<thead><tr><th>Source_Name</th><th>GLON</th><th>GLAT</th><th>Source_Class</th></tr></thead>\n",
       "<thead><tr><th></th><th>deg</th><th>deg</th><th></th></tr></thead>\n",
       "<thead><tr><th>str11</th><th>float64</th><th>float64</th><th>str3</th></tr></thead>\n",
       "<tr><td>Cas A</td><td>111.74169477</td><td>-2.13544151</td><td>snr</td></tr>\n",
       "</table>"
      ],
      "text/plain": [
       "<Row index=2>\n",
       "Source_Name     GLON         GLAT    Source_Class\n",
       "                deg          deg                 \n",
       "   str11      float64      float64       str3    \n",
       "----------- ------------ ----------- ------------\n",
       "      Cas A 111.74169477 -2.13544151          snr"
      ]
     },
     "execution_count": 451,
     "metadata": {},
     "output_type": "execute_result"
    }
   ],
   "source": [
    "table.loc[\"Cas A\"]"
   ]
  },
  {
   "cell_type": "code",
   "execution_count": 452,
   "id": "a7c32ce7-fe54-423a-b333-5071da4e7438",
   "metadata": {},
   "outputs": [
    {
     "name": "stdout",
     "output_type": "stream",
     "text": [
      "Source_Name     GLON        GLAT    Source_Class\n",
      "                deg         deg                 \n",
      "----------- ----------- ----------- ------------\n",
      "       Crab 184.5575438 -5.78427369          pwn \n",
      "\n",
      "Source_Name     GLON         GLAT    Source_Class\n",
      "                deg          deg                 \n",
      "----------- ------------ ----------- ------------\n",
      "      Cas A 111.74169477 -2.13544151          snr\n",
      "Vela Junior 266.25914205 -1.21985818          snr \n",
      "\n",
      "Source_Name GLON GLAT Source_Class\n",
      "            deg  deg              \n",
      "----------- ---- ---- ------------\n",
      "     Sag A*  0.0  0.0          unc \n",
      "\n"
     ]
    }
   ],
   "source": [
    "table_grouped = table.group_by(\"Source_Class\")\n",
    "\n",
    "for group in table_grouped.groups:\n",
    "    print(group,\"\\n\")\n",
    "# pwn,snr,unc are grouped seperately    "
   ]
  },
  {
   "cell_type": "markdown",
   "id": "b0a5081c-363e-4114-8563-6fc187d4193f",
   "metadata": {},
   "source": [
    "#### Special one"
   ]
  },
  {
   "cell_type": "code",
   "execution_count": 453,
   "id": "cb8b30d4-eafa-4cee-b5ef-7953f4321fe9",
   "metadata": {},
   "outputs": [
    {
     "data": {
      "text/html": [
       "<div><i>Table length=4</i>\n",
       "<table id=\"table140592041353904\" class=\"table-striped table-bordered table-condensed\">\n",
       "<thead><tr><th>Source_Name</th><th>GLON</th><th>GLAT</th><th>Source_Class</th></tr></thead>\n",
       "<thead><tr><th></th><th>deg</th><th>deg</th><th></th></tr></thead>\n",
       "<thead><tr><th>str11</th><th>float64</th><th>float64</th><th>str3</th></tr></thead>\n",
       "<tr><td>Sag A*</td><td>0.0</td><td>0.0</td><td>unc</td></tr>\n",
       "<tr><td>Cas A</td><td>111.74169477</td><td>-2.13544151</td><td>snr</td></tr>\n",
       "<tr><td>Crab</td><td>184.5575438</td><td>-5.78427369</td><td>pwn</td></tr>\n",
       "<tr><td>Vela Junior</td><td>266.25914205</td><td>-1.21985818</td><td>snr</td></tr>\n",
       "</table></div>"
      ],
      "text/plain": [
       "<Table length=4>\n",
       "Source_Name     GLON         GLAT    Source_Class\n",
       "                deg          deg                 \n",
       "   str11      float64      float64       str3    \n",
       "----------- ------------ ----------- ------------\n",
       "     Sag A*          0.0         0.0          unc\n",
       "      Cas A 111.74169477 -2.13544151          snr\n",
       "       Crab  184.5575438 -5.78427369          pwn\n",
       "Vela Junior 266.25914205 -1.21985818          snr"
      ]
     },
     "execution_count": 453,
     "metadata": {},
     "output_type": "execute_result"
    }
   ],
   "source": [
    "table.sort('GLON') # the table is arranged in increasing order of GLON values.\n",
    "table"
   ]
  },
  {
   "cell_type": "code",
   "execution_count": 454,
   "id": "94a2608b-9c10-41ac-8727-f540a89d1207",
   "metadata": {},
   "outputs": [],
   "source": [
    "table.remove_row(2)"
   ]
  },
  {
   "cell_type": "code",
   "execution_count": 455,
   "id": "170115bd-19a3-4c2d-bff1-67e8f41273ff",
   "metadata": {},
   "outputs": [
    {
     "data": {
      "text/html": [
       "<div><i>Table length=3</i>\n",
       "<table id=\"table140592041353904\" class=\"table-striped table-bordered table-condensed\">\n",
       "<thead><tr><th>Source_Name</th><th>GLON</th><th>GLAT</th><th>Source_Class</th></tr></thead>\n",
       "<thead><tr><th></th><th>deg</th><th>deg</th><th></th></tr></thead>\n",
       "<thead><tr><th>str11</th><th>float64</th><th>float64</th><th>str3</th></tr></thead>\n",
       "<tr><td>Sag A*</td><td>0.0</td><td>0.0</td><td>unc</td></tr>\n",
       "<tr><td>Cas A</td><td>111.74169477</td><td>-2.13544151</td><td>snr</td></tr>\n",
       "<tr><td>Vela Junior</td><td>266.25914205</td><td>-1.21985818</td><td>snr</td></tr>\n",
       "</table></div>"
      ],
      "text/plain": [
       "<Table length=3>\n",
       "Source_Name     GLON         GLAT    Source_Class\n",
       "                deg          deg                 \n",
       "   str11      float64      float64       str3    \n",
       "----------- ------------ ----------- ------------\n",
       "     Sag A*          0.0         0.0          unc\n",
       "      Cas A 111.74169477 -2.13544151          snr\n",
       "Vela Junior 266.25914205 -1.21985818          snr"
      ]
     },
     "execution_count": 455,
     "metadata": {},
     "output_type": "execute_result"
    }
   ],
   "source": [
    "table"
   ]
  },
  {
   "cell_type": "code",
   "execution_count": 456,
   "id": "05161168-1f95-4d2c-9b9f-af8d1528648f",
   "metadata": {},
   "outputs": [
    {
     "name": "stdout",
     "output_type": "stream",
     "text": [
      "Sag A*\n",
      "Cas A\n",
      "Vela Junior\n"
     ]
    }
   ],
   "source": [
    "for row in table:\n",
    "    print(row[\"Source_Name\"])"
   ]
  },
  {
   "cell_type": "code",
   "execution_count": 457,
   "id": "69870e49-9f2a-4893-92f8-6c1e09e05fb2",
   "metadata": {},
   "outputs": [],
   "source": [
    "table.show_in_browser(jsviewer=True)  # The table get opened on a new browser window"
   ]
  },
  {
   "cell_type": "code",
   "execution_count": 458,
   "id": "bfa7a224-ec28-4c1b-b846-2964e9aa574b",
   "metadata": {},
   "outputs": [
    {
     "data": {
      "text/html": [
       "<i>Table length=3</i>\n",
       "<table id=\"table140592041353904-628391\" class=\"table-striped table-bordered table-condensed\">\n",
       "<thead><tr><th>idx</th><th>Source_Name</th><th>GLON</th><th>GLAT</th><th>Source_Class</th></tr></thead>\n",
       "<thead><tr><th></th><th></th><th>deg</th><th>deg</th><th></th></tr></thead>\n",
       "<tr><td>0</td><td>Sag A*</td><td>0.0</td><td>0.0</td><td>unc</td></tr>\n",
       "<tr><td>1</td><td>Cas A</td><td>111.74169477</td><td>-2.13544151</td><td>snr</td></tr>\n",
       "<tr><td>2</td><td>Vela Junior</td><td>266.25914205</td><td>-1.21985818</td><td>snr</td></tr>\n",
       "</table><style>table.dataTable {clear: both; width: auto !important; margin: 0 !important;}\n",
       ".dataTables_info, .dataTables_length, .dataTables_filter, .dataTables_paginate{\n",
       "display: inline-block; margin-right: 1em; }\n",
       ".paginate_button { margin-right: 5px; }\n",
       "</style>\n",
       "<script>\n",
       "\n",
       "var astropy_sort_num = function(a, b) {\n",
       "    var a_num = parseFloat(a);\n",
       "    var b_num = parseFloat(b);\n",
       "\n",
       "    if (isNaN(a_num) && isNaN(b_num))\n",
       "        return ((a < b) ? -1 : ((a > b) ? 1 : 0));\n",
       "    else if (!isNaN(a_num) && !isNaN(b_num))\n",
       "        return ((a_num < b_num) ? -1 : ((a_num > b_num) ? 1 : 0));\n",
       "    else\n",
       "        return isNaN(a_num) ? -1 : 1;\n",
       "}\n",
       "\n",
       "require.config({paths: {\n",
       "    datatables: 'https://cdn.datatables.net/1.10.12/js/jquery.dataTables.min'\n",
       "}});\n",
       "require([\"datatables\"], function(){\n",
       "    console.log(\"$('#table140592041353904-628391').dataTable()\");\n",
       "    \n",
       "jQuery.extend( jQuery.fn.dataTableExt.oSort, {\n",
       "    \"optionalnum-asc\": astropy_sort_num,\n",
       "    \"optionalnum-desc\": function (a,b) { return -astropy_sort_num(a, b); }\n",
       "});\n",
       "\n",
       "    $('#table140592041353904-628391').dataTable({\n",
       "        order: [],\n",
       "        pageLength: 50,\n",
       "        lengthMenu: [[10, 25, 50, 100, 500, 1000, -1], [10, 25, 50, 100, 500, 1000, 'All']],\n",
       "        pagingType: \"full_numbers\",\n",
       "        columnDefs: [{targets: [0, 2, 3], type: \"optionalnum\"}]\n",
       "    });\n",
       "});\n",
       "</script>\n"
      ],
      "text/plain": [
       "<IPython.core.display.HTML object>"
      ]
     },
     "execution_count": 458,
     "metadata": {},
     "output_type": "execute_result"
    }
   ],
   "source": [
    "table.show_in_notebook() # shon in Notebook"
   ]
  },
  {
   "cell_type": "markdown",
   "id": "0176cb98-c475-48bd-9600-8b498fec5d7e",
   "metadata": {},
   "source": [
    "## FITS Image and WCS"
   ]
  },
  {
   "cell_type": "code",
   "execution_count": 459,
   "id": "1655869c-c9a9-41ca-b771-0f7c0da28a58",
   "metadata": {},
   "outputs": [],
   "source": [
    "from astropy.io import fits"
   ]
  },
  {
   "cell_type": "code",
   "execution_count": 460,
   "id": "ee4e36a1-07a6-4bad-b630-e3ed708faa31",
   "metadata": {},
   "outputs": [],
   "source": [
    "hdulist = fits.open('//Users/dhruvkumar/Desktop/casa_0.5-1.5keV.fits.gz')"
   ]
  },
  {
   "cell_type": "code",
   "execution_count": 461,
   "id": "4321256a-0122-4838-a740-0c1a37b13e56",
   "metadata": {},
   "outputs": [
    {
     "name": "stdout",
     "output_type": "stream",
     "text": [
      "Filename: //Users/dhruvkumar/Desktop/casa_0.5-1.5keV.fits.gz\n",
      "No.    Name      Ver    Type      Cards   Dimensions   Format\n",
      "  0  PRIMARY       1 PrimaryHDU      26   (1024, 1024)   float32   \n"
     ]
    }
   ],
   "source": [
    "hdulist.info()"
   ]
  },
  {
   "cell_type": "code",
   "execution_count": 462,
   "id": "838010a1-7d0f-43fc-81d8-fc2c8f75d104",
   "metadata": {},
   "outputs": [],
   "source": [
    "image_hdu = hdulist[0] # PRIMARY"
   ]
  },
  {
   "cell_type": "code",
   "execution_count": 463,
   "id": "54d0c449-8b94-4e7b-bf66-b54c82aa7458",
   "metadata": {},
   "outputs": [
    {
     "data": {
      "text/plain": [
       "array([[0., 0., 0., ..., 0., 0., 0.],\n",
       "       [0., 0., 0., ..., 0., 0., 0.],\n",
       "       [0., 0., 0., ..., 0., 0., 0.],\n",
       "       ...,\n",
       "       [0., 0., 0., ..., 0., 0., 0.],\n",
       "       [0., 0., 0., ..., 1., 0., 0.],\n",
       "       [0., 0., 0., ..., 0., 0., 0.]], dtype=float32)"
      ]
     },
     "execution_count": 463,
     "metadata": {},
     "output_type": "execute_result"
    }
   ],
   "source": [
    "image_hdu.data"
   ]
  },
  {
   "cell_type": "code",
   "execution_count": 464,
   "id": "c16bee5e-4ac6-4028-aece-226c9f81a694",
   "metadata": {},
   "outputs": [
    {
     "data": {
      "text/plain": [
       "<matplotlib.colorbar.Colorbar at 0x7fde00a79040>"
      ]
     },
     "execution_count": 464,
     "metadata": {},
     "output_type": "execute_result"
    },
    {
     "data": {
      "image/png": "[encoded data removed]",
      "text/plain": [
       "<Figure size 432x288 with 2 Axes>"
      ]
     },
     "metadata": {
      "needs_background": "light"
     },
     "output_type": "display_data"
    }
   ],
   "source": [
    "# Let'see the image\n",
    "plt.imshow(image_hdu.data, origin='lower', cmap='inferno')\n",
    "plt.colorbar() # BeautiFul"
   ]
  },
  {
   "cell_type": "code",
   "execution_count": 465,
   "id": "dab42b04-996f-4b6a-882e-430f38490ffa",
   "metadata": {},
   "outputs": [
    {
     "data": {
      "text/plain": [
       "SIMPLE  =                    T / Fits standard                                  \n",
       "BITPIX  =                  -32 / Bits per pixel                                 \n",
       "NAXIS   =                    2 / Number of axes                                 \n",
       "NAXIS1  =                 1024 / Axis Length                                    \n",
       "NAXIS2  =                 1024 / Axis Length                                    \n",
       "OBJECT  = 'Cassiopeia A'                                                        \n",
       "DATE-OBS= '2007-12-05T22:01:59'                                                 \n",
       "DATE-END= '2007-12-08T20:07:24'                                                 \n",
       "LTM1_1  =                    1                                                  \n",
       "LTM1_2  =                    0                                                  \n",
       "LTM2_1  =                    0                                                  \n",
       "LTM2_2  =                    1                                                  \n",
       "LTV1    =                -3651                                                  \n",
       "LTV2    =                -3807                                                  \n",
       "CTYPE1  = 'RA---TAN'                                                            \n",
       "CTYPE2  = 'DEC--TAN'                                                            \n",
       "CUNIT1  = 'deg'                                                                 \n",
       "CUNIT2  = 'deg'                                                                 \n",
       "CRPIX1  =                445.5                                                  \n",
       "CRPIX2  =                289.5                                                  \n",
       "CRVAL1  =          350.8841248                                                  \n",
       "CRVAL2  =          58.78133011                                                  \n",
       "CDELT1  =     -0.0001366666693                                                  \n",
       "CDELT2  =      0.0001366666693                                                  \n",
       "EQUINOX =                 2000                                                  \n",
       "RADESYS = 'ICRS'                                                                "
      ]
     },
     "execution_count": 465,
     "metadata": {},
     "output_type": "execute_result"
    }
   ],
   "source": [
    "image_hdu.header"
   ]
  },
  {
   "cell_type": "markdown",
   "id": "641fac1d-92fe-4df6-94f1-e84262f6460a",
   "metadata": {},
   "source": [
    "------------------------------------------------------------------------------------------------------------------------------------------------  \n",
    "__We now use the header information to create a world coordinate to pixel coordinate transformation, using the astropy.wcs.WCS class:__"
   ]
  },
  {
   "cell_type": "code",
   "execution_count": 466,
   "id": "bc1b7607-7304-4b22-88db-3392d34c113a",
   "metadata": {},
   "outputs": [],
   "source": [
    "from astropy.wcs import WCS"
   ]
  },
  {
   "cell_type": "code",
   "execution_count": 467,
   "id": "a897a83b-6c52-494c-96a9-e2668e112d28",
   "metadata": {},
   "outputs": [
    {
     "name": "stdout",
     "output_type": "stream",
     "text": [
      "WCS Keywords\n",
      "\n",
      "Number of WCS axes: 2\n",
      "CTYPE : 'RA---TAN'  'DEC--TAN'  \n",
      "CRVAL : 350.8841248  58.78133011  \n",
      "CRPIX : 445.5  289.5  \n",
      "PC1_1 PC1_2  : 1.0  0.0  \n",
      "PC2_1 PC2_2  : 0.0  1.0  \n",
      "CDELT : -0.0001366666693  0.0001366666693  \n",
      "NAXIS : 1024  1024\n"
     ]
    },
    {
     "name": "stderr",
     "output_type": "stream",
     "text": [
      "WARNING: FITSFixedWarning: 'datfix' made the change 'Set MJD-OBS to 54439.918044 from DATE-OBS.\n",
      "Set MJD-END to 54442.838472 from DATE-END'. [astropy.wcs.wcs]\n"
     ]
    }
   ],
   "source": [
    "wcs = WCS(image_hdu.header)\n",
    "print(wcs) # Projection is Defined\n",
    "# tangential- projection"
   ]
  },
  {
   "cell_type": "markdown",
   "id": "b7ce42bb-0bee-4f9a-a1b6-e79f79bb4cf7",
   "metadata": {},
   "source": [
    "----------------------------------------------------------------------------------------------------------------------------------------  \n",
    "__Using the helper methods SkyCoord.to_pixel() and SkyCood.from_pixel() we can now convert every position in the image to the corresponding sky coordinate:__"
   ]
  },
  {
   "cell_type": "code",
   "execution_count": 468,
   "id": "b22ccc8a-773b-4bc5-8463-e99c1714cca0",
   "metadata": {},
   "outputs": [
    {
     "data": {
      "text/plain": [
       "<SkyCoord (ICRS): (ra, dec) in deg\n",
       "    (351.00119731, 58.74184873)>"
      ]
     },
     "execution_count": 468,
     "metadata": {},
     "output_type": "execute_result"
    }
   ],
   "source": [
    "SkyCoord.from_pixel(0,0,wcs) # we get the coordinate through the image (META_DATA)"
   ]
  },
  {
   "cell_type": "code",
   "execution_count": 469,
   "id": "9f283631-487b-4521-9226-a71630a74b78",
   "metadata": {},
   "outputs": [
    {
     "data": {
      "text/plain": [
       "(array(511.59897551), array(510.89019587))"
      ]
     },
     "execution_count": 469,
     "metadata": {},
     "output_type": "execute_result"
    }
   ],
   "source": [
    "# Inverse\n",
    "position_casa = SkyCoord('23h23m27.94s','+58d48m42.2s',frame='icrs')\n",
    "position_casa.to_pixel(wcs)\n",
    "# ra,dec"
   ]
  },
  {
   "cell_type": "markdown",
   "id": "e30d90d5-8c4b-4eef-ad40-dc057180380f",
   "metadata": {},
   "source": [
    "## Plotting of sky images"
   ]
  },
  {
   "cell_type": "markdown",
   "id": "286cae6d-7b72-4c6e-8feb-3d3b55a6e4b2",
   "metadata": {},
   "source": [
    "__The Matplotlib package is a very popular plotting package for Python. Astropy provides a helper module astropy.visualization.wcsaxes to simplify plotting of sky images with Matplotlib.__\n",
    "__To use it we just pass projection=wcs to the plt.subplot() function:__\n",
    "\n"
   ]
  },
  {
   "cell_type": "code",
   "execution_count": 470,
   "id": "59184888-5285-4d45-8bc0-75b57171053e",
   "metadata": {},
   "outputs": [
    {
     "data": {
      "image/png": "[encoded data removed]",
      "text/plain": [
       "<Figure size 432x288 with 1 Axes>"
      ]
     },
     "metadata": {
      "needs_background": "light"
     },
     "output_type": "display_data"
    }
   ],
   "source": [
    "ax = plt.subplot(projection=wcs)\n",
    "ax.imshow(image_hdu.data,cmap='inferno',origin='lower')\n",
    "\n",
    "ax.set_xlabel('RA (deg)')\n",
    "ax.set_ylabel('DEC (deg)')"
   ]
  },
  {
   "cell_type": "code",
   "execution_count": 471,
   "id": "5101b23a-f52a-4281-8f8c-28aa4dd11924",
   "metadata": {},
   "outputs": [
    {
     "data": {
      "image/png": "[encoded data removed]",
      "text/plain": [
       "<Figure size 432x288 with 1 Axes>"
      ]
     },
     "execution_count": 471,
     "metadata": {},
     "output_type": "execute_result"
    }
   ],
   "source": [
    "ax.grid(linewidth='0.5',linestyle='dashed',color='white')\n",
    "ax.figure"
   ]
  },
  {
   "cell_type": "code",
   "execution_count": 472,
   "id": "42978050-3bc1-45c7-96d8-1f957f556c94",
   "metadata": {},
   "outputs": [
    {
     "data": {
      "image/png": "[encoded data removed]",
      "text/plain": [
       "<Figure size 432x288 with 1 Axes>"
      ]
     },
     "execution_count": 472,
     "metadata": {},
     "output_type": "execute_result"
    }
   ],
   "source": [
    "ra = position_casa.icrs.ra.deg\n",
    "dec = position_casa.icrs.dec.deg\n",
    "ax.scatter(ra,dec,transform= ax.get_transform('icrs'),color='white', marker ='x')\n",
    "ax.figure"
   ]
  },
  {
   "cell_type": "markdown",
   "id": "daf1f3a8-35b9-41e2-b59f-430ade345b8a",
   "metadata": {},
   "source": [
    "__We can also add geometrical shapes to the image to illustrate regions:__"
   ]
  },
  {
   "cell_type": "code",
   "execution_count": 473,
   "id": "ea631319-b296-4ae3-8ff0-08cf85ec2e0c",
   "metadata": {},
   "outputs": [],
   "source": [
    "from matplotlib.patches import Circle\n",
    "from astropy.wcs.utils import proj_plane_pixel_scales"
   ]
  },
  {
   "cell_type": "code",
   "execution_count": 474,
   "id": "3bf1f4de-8fe2-4c7a-a958-a4690fc7dcab",
   "metadata": {},
   "outputs": [],
   "source": [
    "# Transform to pixel coordinates\n",
    "xy = ax.wcs.world_to_pixel(position_casa)\n",
    "pixel_size = proj_plane_pixel_scales(wcs)[0] * u.deg\n",
    "radius = 1.7 * u.arcmin / pixel_size"
   ]
  },
  {
   "cell_type": "code",
   "execution_count": 475,
   "id": "7db38980-8957-4e6f-a02b-f36c1ceaa892",
   "metadata": {},
   "outputs": [
    {
     "data": {
      "image/png": "[encoded data removed]",
      "text/plain": [
       "<Figure size 432x288 with 1 Axes>"
      ]
     },
     "execution_count": 475,
     "metadata": {},
     "output_type": "execute_result"
    }
   ],
   "source": [
    "circle = Circle(\n",
    "    xy = xy,\n",
    "    radius = radius.to_value(\"\"),\n",
    "    edgecolor = \"w\",\n",
    "    facecolor=\"None\"\n",
    ")\n",
    "ax.add_patch(circle)\n",
    "ax.figure"
   ]
  },
  {
   "cell_type": "code",
   "execution_count": null,
   "id": "23946bb2-cebb-410b-ad73-23706c869223",
   "metadata": {},
   "outputs": [],
   "source": []
  }
 ],
 "metadata": {
  "kernelspec": {
   "display_name": "Python 3",
   "language": "python",
   "name": "python3"
  },
  "language_info": {
   "codemirror_mode": {
    "name": "ipython",
    "version": 3
   },
   "file_extension": ".py",
   "mimetype": "text/x-python",
   "name": "python",
   "nbconvert_exporter": "python",
   "pygments_lexer": "ipython3",
   "version": "3.8.8"
  },
  "toc-autonumbering": true,
  "toc-showcode": true
 },
 "nbformat": 4,
 "nbformat_minor": 5
}
