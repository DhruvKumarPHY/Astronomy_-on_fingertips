{
 "cells": [
  {
   "cell_type": "code",
   "execution_count": 76,
   "id": "3b02d3b8",
   "metadata": {},
   "outputs": [],
   "source": [
    "import pandas as pd\n",
    "import numpy as np"
   ]
  },
  {
   "cell_type": "code",
   "execution_count": 77,
   "id": "f67cf115",
   "metadata": {},
   "outputs": [
    {
     "data": {
      "text/html": [
       "<div>\n",
       "<style scoped>\n",
       "    .dataframe tbody tr th:only-of-type {\n",
       "        vertical-align: middle;\n",
       "    }\n",
       "\n",
       "    .dataframe tbody tr th {\n",
       "        vertical-align: top;\n",
       "    }\n",
       "\n",
       "    .dataframe thead th {\n",
       "        text-align: right;\n",
       "    }\n",
       "</style>\n",
       "<table border=\"1\" class=\"dataframe\">\n",
       "  <thead>\n",
       "    <tr style=\"text-align: right;\">\n",
       "      <th></th>\n",
       "      <th>0</th>\n",
       "    </tr>\n",
       "  </thead>\n",
       "  <tbody>\n",
       "    <tr>\n",
       "      <th>0</th>\n",
       "      <td>1</td>\n",
       "    </tr>\n",
       "    <tr>\n",
       "      <th>1</th>\n",
       "      <td>2</td>\n",
       "    </tr>\n",
       "    <tr>\n",
       "      <th>2</th>\n",
       "      <td>34</td>\n",
       "    </tr>\n",
       "    <tr>\n",
       "      <th>3</th>\n",
       "      <td>5</td>\n",
       "    </tr>\n",
       "    <tr>\n",
       "      <th>4</th>\n",
       "      <td>8</td>\n",
       "    </tr>\n",
       "  </tbody>\n",
       "</table>\n",
       "</div>"
      ],
      "text/plain": [
       "    0\n",
       "0   1\n",
       "1   2\n",
       "2  34\n",
       "3   5\n",
       "4   8"
      ]
     },
     "execution_count": 77,
     "metadata": {},
     "output_type": "execute_result"
    }
   ],
   "source": [
    "data = [1,2,34,5,8]\n",
    "pd.DataFrame(data) # Rows and Columns"
   ]
  },
  {
   "cell_type": "code",
   "execution_count": 78,
   "id": "d56c2025",
   "metadata": {},
   "outputs": [],
   "source": [
    "data = { \n",
    "    \"Name\": [\"Ram\",\"Sham\",\"Ghansham\"],\n",
    "    \"Maths\": [19,18,20], # Marks in Maths\n",
    "    \"Chemistry\": [14,15,13], # Marks in Chemistry\n",
    "    \"Physics\": [19,19.5,18] # MArks in Physics    \n",
    "}\n",
    "# Coma{,} is used after each line"
   ]
  },
  {
   "cell_type": "code",
   "execution_count": 79,
   "id": "139d1b34",
   "metadata": {},
   "outputs": [],
   "source": [
    "df = pd.DataFrame(data)"
   ]
  },
  {
   "cell_type": "code",
   "execution_count": 80,
   "id": "0aea0603",
   "metadata": {},
   "outputs": [
    {
     "data": {
      "text/html": [
       "<div>\n",
       "<style scoped>\n",
       "    .dataframe tbody tr th:only-of-type {\n",
       "        vertical-align: middle;\n",
       "    }\n",
       "\n",
       "    .dataframe tbody tr th {\n",
       "        vertical-align: top;\n",
       "    }\n",
       "\n",
       "    .dataframe thead th {\n",
       "        text-align: right;\n",
       "    }\n",
       "</style>\n",
       "<table border=\"1\" class=\"dataframe\">\n",
       "  <thead>\n",
       "    <tr style=\"text-align: right;\">\n",
       "      <th></th>\n",
       "      <th>Name</th>\n",
       "      <th>Maths</th>\n",
       "      <th>Chemistry</th>\n",
       "      <th>Physics</th>\n",
       "    </tr>\n",
       "  </thead>\n",
       "  <tbody>\n",
       "    <tr>\n",
       "      <th>0</th>\n",
       "      <td>Ram</td>\n",
       "      <td>19</td>\n",
       "      <td>14</td>\n",
       "      <td>19.0</td>\n",
       "    </tr>\n",
       "    <tr>\n",
       "      <th>1</th>\n",
       "      <td>Sham</td>\n",
       "      <td>18</td>\n",
       "      <td>15</td>\n",
       "      <td>19.5</td>\n",
       "    </tr>\n",
       "    <tr>\n",
       "      <th>2</th>\n",
       "      <td>Ghansham</td>\n",
       "      <td>20</td>\n",
       "      <td>13</td>\n",
       "      <td>18.0</td>\n",
       "    </tr>\n",
       "  </tbody>\n",
       "</table>\n",
       "</div>"
      ],
      "text/plain": [
       "       Name  Maths  Chemistry  Physics\n",
       "0       Ram     19         14     19.0\n",
       "1      Sham     18         15     19.5\n",
       "2  Ghansham     20         13     18.0"
      ]
     },
     "execution_count": 80,
     "metadata": {},
     "output_type": "execute_result"
    }
   ],
   "source": [
    "df"
   ]
  },
  {
   "cell_type": "code",
   "execution_count": 81,
   "id": "856f0ccd",
   "metadata": {},
   "outputs": [
    {
     "data": {
      "text/plain": [
       "pandas.core.frame.DataFrame"
      ]
     },
     "execution_count": 81,
     "metadata": {},
     "output_type": "execute_result"
    }
   ],
   "source": [
    "type(df) # DataFrame"
   ]
  },
  {
   "cell_type": "code",
   "execution_count": 82,
   "id": "5a524e5e",
   "metadata": {},
   "outputs": [
    {
     "data": {
      "text/plain": [
       "0    19\n",
       "1    18\n",
       "2    20\n",
       "Name: Maths, dtype: int64"
      ]
     },
     "execution_count": 82,
     "metadata": {},
     "output_type": "execute_result"
    }
   ],
   "source": [
    "df[\"Maths\"] # to access a particular element with index"
   ]
  },
  {
   "cell_type": "code",
   "execution_count": 83,
   "id": "a35f9889",
   "metadata": {},
   "outputs": [
    {
     "data": {
      "text/plain": [
       "pandas.core.series.Series"
      ]
     },
     "execution_count": 83,
     "metadata": {},
     "output_type": "execute_result"
    }
   ],
   "source": [
    "type(df[\"Maths\"]) # Series"
   ]
  },
  {
   "cell_type": "code",
   "execution_count": 84,
   "id": "d7ede965",
   "metadata": {},
   "outputs": [
    {
     "data": {
      "text/plain": [
       "0    190.0\n",
       "1    195.0\n",
       "2    180.0\n",
       "Name: Physics, dtype: float64"
      ]
     },
     "execution_count": 84,
     "metadata": {},
     "output_type": "execute_result"
    }
   ],
   "source": [
    "# Let's try out some mathematical operations\n",
    "df[\"Physics\"] * 10"
   ]
  },
  {
   "cell_type": "code",
   "execution_count": 85,
   "id": "ec98f09b",
   "metadata": {},
   "outputs": [
    {
     "data": {
      "text/plain": [
       "0    0.149877\n",
       "1    0.605540\n",
       "2   -0.750987\n",
       "Name: Physics, dtype: float64"
      ]
     },
     "execution_count": 85,
     "metadata": {},
     "output_type": "execute_result"
    }
   ],
   "source": [
    "np.sin(df[\"Physics\"])"
   ]
  },
  {
   "cell_type": "code",
   "execution_count": 86,
   "id": "bfc4709e",
   "metadata": {},
   "outputs": [],
   "source": [
    "rng = np.random.default_rng(42)   # default_rng is the recommended constructor for the random number class Generator\n",
    "s = pd.Series(rng.integers(0,100,10))"
   ]
  },
  {
   "cell_type": "markdown",
   "id": "5148fc13",
   "metadata": {},
   "source": [
    "__*What is the significance of random. seed(42) ? It's a pop-culture reference! In Douglas Adams's popular 1979 science-fiction novel The Hitchhiker's Guide to the Galaxy, towards the end of the book, the supercomputer Deep Thought reveals that the answer to the great question of “life, the universe and everything” is 42.*__"
   ]
  },
  {
   "cell_type": "code",
   "execution_count": 87,
   "id": "26534317",
   "metadata": {},
   "outputs": [
    {
     "data": {
      "text/plain": [
       "0     8\n",
       "1    77\n",
       "2    65\n",
       "3    43\n",
       "4    43\n",
       "5    85\n",
       "6     8\n",
       "7    69\n",
       "8    20\n",
       "9     9\n",
       "dtype: int64"
      ]
     },
     "execution_count": 87,
     "metadata": {},
     "output_type": "execute_result"
    }
   ],
   "source": [
    "s "
   ]
  },
  {
   "cell_type": "code",
   "execution_count": 88,
   "id": "29f66a00",
   "metadata": {},
   "outputs": [
    {
     "data": {
      "text/plain": [
       "0     8\n",
       "6     8\n",
       "9     9\n",
       "8    20\n",
       "3    43\n",
       "4    43\n",
       "2    65\n",
       "7    69\n",
       "1    77\n",
       "5    85\n",
       "dtype: int64"
      ]
     },
     "execution_count": 88,
     "metadata": {},
     "output_type": "execute_result"
    }
   ],
   "source": [
    "s.sort_values() # The values are arranged in increasing value order"
   ]
  },
  {
   "cell_type": "code",
   "execution_count": 89,
   "id": "ee5bd7f0",
   "metadata": {},
   "outputs": [
    {
     "data": {
      "text/plain": [
       "0      64\n",
       "1    5929\n",
       "2    4225\n",
       "3    1849\n",
       "4    1849\n",
       "5    7225\n",
       "6      64\n",
       "7    4761\n",
       "8     400\n",
       "9      81\n",
       "dtype: int64"
      ]
     },
     "execution_count": 89,
     "metadata": {},
     "output_type": "execute_result"
    }
   ],
   "source": [
    "# Let' performs some calculations\n",
    "s * s.sort_values() # Here, the multiplication of the element takes place is done wrt to the index values.\n",
    "# Hence, we get the square of the terms."
   ]
  },
  {
   "cell_type": "code",
   "execution_count": 90,
   "id": "003ca427",
   "metadata": {},
   "outputs": [
    {
     "data": {
      "text/plain": [
       "0      64\n",
       "1     616\n",
       "2     585\n",
       "3     860\n",
       "4    1849\n",
       "5    3655\n",
       "6     520\n",
       "7    4761\n",
       "8    1540\n",
       "9     765\n",
       "dtype: int64"
      ]
     },
     "execution_count": 90,
     "metadata": {},
     "output_type": "execute_result"
    }
   ],
   "source": [
    "# Let's tackel this problem\n",
    "s * s.sort_values().reset_index(drop=True) # drop is just to get rid of the authentics\n",
    "# Now, we reset the index of the sort Series and the multiply"
   ]
  },
  {
   "cell_type": "code",
   "execution_count": 91,
   "id": "ff461839",
   "metadata": {},
   "outputs": [
    {
     "data": {
      "text/plain": [
       "Name          object\n",
       "Maths          int64\n",
       "Chemistry      int64\n",
       "Physics      float64\n",
       "dtype: object"
      ]
     },
     "execution_count": 91,
     "metadata": {},
     "output_type": "execute_result"
    }
   ],
   "source": [
    "df.dtypes # The type of data we are using in the series"
   ]
  },
  {
   "cell_type": "code",
   "execution_count": 92,
   "id": "c155153e",
   "metadata": {},
   "outputs": [
    {
     "data": {
      "text/plain": [
       "Index(['Name', 'Maths', 'Chemistry', 'Physics'], dtype='object')"
      ]
     },
     "execution_count": 92,
     "metadata": {},
     "output_type": "execute_result"
    }
   ],
   "source": [
    "df.columns"
   ]
  },
  {
   "cell_type": "code",
   "execution_count": 93,
   "id": "20aa469a",
   "metadata": {},
   "outputs": [
    {
     "data": {
      "text/plain": [
       "(3, 4)"
      ]
     },
     "execution_count": 93,
     "metadata": {},
     "output_type": "execute_result"
    }
   ],
   "source": [
    "df.shape # {3}rows and{4} columns"
   ]
  },
  {
   "cell_type": "code",
   "execution_count": 94,
   "id": "5288a37a",
   "metadata": {},
   "outputs": [
    {
     "data": {
      "text/html": [
       "<div>\n",
       "<style scoped>\n",
       "    .dataframe tbody tr th:only-of-type {\n",
       "        vertical-align: middle;\n",
       "    }\n",
       "\n",
       "    .dataframe tbody tr th {\n",
       "        vertical-align: top;\n",
       "    }\n",
       "\n",
       "    .dataframe thead th {\n",
       "        text-align: right;\n",
       "    }\n",
       "</style>\n",
       "<table border=\"1\" class=\"dataframe\">\n",
       "  <thead>\n",
       "    <tr style=\"text-align: right;\">\n",
       "      <th></th>\n",
       "      <th>Name</th>\n",
       "      <th>Maths</th>\n",
       "      <th>Chemistry</th>\n",
       "      <th>Physics</th>\n",
       "    </tr>\n",
       "  </thead>\n",
       "  <tbody>\n",
       "    <tr>\n",
       "      <th>0</th>\n",
       "      <td>Ram</td>\n",
       "      <td>19</td>\n",
       "      <td>14</td>\n",
       "      <td>19.0</td>\n",
       "    </tr>\n",
       "    <tr>\n",
       "      <th>1</th>\n",
       "      <td>Sham</td>\n",
       "      <td>18</td>\n",
       "      <td>15</td>\n",
       "      <td>19.5</td>\n",
       "    </tr>\n",
       "    <tr>\n",
       "      <th>2</th>\n",
       "      <td>Ghansham</td>\n",
       "      <td>20</td>\n",
       "      <td>13</td>\n",
       "      <td>18.0</td>\n",
       "    </tr>\n",
       "  </tbody>\n",
       "</table>\n",
       "</div>"
      ],
      "text/plain": [
       "       Name  Maths  Chemistry  Physics\n",
       "0       Ram     19         14     19.0\n",
       "1      Sham     18         15     19.5\n",
       "2  Ghansham     20         13     18.0"
      ]
     },
     "execution_count": 94,
     "metadata": {},
     "output_type": "execute_result"
    }
   ],
   "source": [
    "df.head() # A beautiful Tabular form {from top}"
   ]
  },
  {
   "cell_type": "code",
   "execution_count": 95,
   "id": "f4b4ef4d",
   "metadata": {},
   "outputs": [
    {
     "data": {
      "text/html": [
       "<div>\n",
       "<style scoped>\n",
       "    .dataframe tbody tr th:only-of-type {\n",
       "        vertical-align: middle;\n",
       "    }\n",
       "\n",
       "    .dataframe tbody tr th {\n",
       "        vertical-align: top;\n",
       "    }\n",
       "\n",
       "    .dataframe thead th {\n",
       "        text-align: right;\n",
       "    }\n",
       "</style>\n",
       "<table border=\"1\" class=\"dataframe\">\n",
       "  <thead>\n",
       "    <tr style=\"text-align: right;\">\n",
       "      <th></th>\n",
       "      <th>Name</th>\n",
       "      <th>Maths</th>\n",
       "      <th>Chemistry</th>\n",
       "      <th>Physics</th>\n",
       "    </tr>\n",
       "  </thead>\n",
       "  <tbody>\n",
       "    <tr>\n",
       "      <th>1</th>\n",
       "      <td>Sham</td>\n",
       "      <td>18</td>\n",
       "      <td>15</td>\n",
       "      <td>19.5</td>\n",
       "    </tr>\n",
       "    <tr>\n",
       "      <th>2</th>\n",
       "      <td>Ghansham</td>\n",
       "      <td>20</td>\n",
       "      <td>13</td>\n",
       "      <td>18.0</td>\n",
       "    </tr>\n",
       "  </tbody>\n",
       "</table>\n",
       "</div>"
      ],
      "text/plain": [
       "       Name  Maths  Chemistry  Physics\n",
       "1      Sham     18         15     19.5\n",
       "2  Ghansham     20         13     18.0"
      ]
     },
     "execution_count": 95,
     "metadata": {},
     "output_type": "execute_result"
    }
   ],
   "source": [
    "df.tail(2) #{from bottom}"
   ]
  },
  {
   "cell_type": "code",
   "execution_count": 96,
   "id": "d057f8e9",
   "metadata": {},
   "outputs": [
    {
     "data": {
      "text/html": [
       "<div>\n",
       "<style scoped>\n",
       "    .dataframe tbody tr th:only-of-type {\n",
       "        vertical-align: middle;\n",
       "    }\n",
       "\n",
       "    .dataframe tbody tr th {\n",
       "        vertical-align: top;\n",
       "    }\n",
       "\n",
       "    .dataframe thead th {\n",
       "        text-align: right;\n",
       "    }\n",
       "</style>\n",
       "<table border=\"1\" class=\"dataframe\">\n",
       "  <thead>\n",
       "    <tr style=\"text-align: right;\">\n",
       "      <th></th>\n",
       "      <th>Maths</th>\n",
       "      <th>Chemistry</th>\n",
       "      <th>Physics</th>\n",
       "    </tr>\n",
       "  </thead>\n",
       "  <tbody>\n",
       "    <tr>\n",
       "      <th>count</th>\n",
       "      <td>3.0</td>\n",
       "      <td>3.0</td>\n",
       "      <td>3.000000</td>\n",
       "    </tr>\n",
       "    <tr>\n",
       "      <th>mean</th>\n",
       "      <td>19.0</td>\n",
       "      <td>14.0</td>\n",
       "      <td>18.833333</td>\n",
       "    </tr>\n",
       "    <tr>\n",
       "      <th>std</th>\n",
       "      <td>1.0</td>\n",
       "      <td>1.0</td>\n",
       "      <td>0.763763</td>\n",
       "    </tr>\n",
       "    <tr>\n",
       "      <th>min</th>\n",
       "      <td>18.0</td>\n",
       "      <td>13.0</td>\n",
       "      <td>18.000000</td>\n",
       "    </tr>\n",
       "    <tr>\n",
       "      <th>25%</th>\n",
       "      <td>18.5</td>\n",
       "      <td>13.5</td>\n",
       "      <td>18.500000</td>\n",
       "    </tr>\n",
       "    <tr>\n",
       "      <th>50%</th>\n",
       "      <td>19.0</td>\n",
       "      <td>14.0</td>\n",
       "      <td>19.000000</td>\n",
       "    </tr>\n",
       "    <tr>\n",
       "      <th>75%</th>\n",
       "      <td>19.5</td>\n",
       "      <td>14.5</td>\n",
       "      <td>19.250000</td>\n",
       "    </tr>\n",
       "    <tr>\n",
       "      <th>max</th>\n",
       "      <td>20.0</td>\n",
       "      <td>15.0</td>\n",
       "      <td>19.500000</td>\n",
       "    </tr>\n",
       "  </tbody>\n",
       "</table>\n",
       "</div>"
      ],
      "text/plain": [
       "       Maths  Chemistry    Physics\n",
       "count    3.0        3.0   3.000000\n",
       "mean    19.0       14.0  18.833333\n",
       "std      1.0        1.0   0.763763\n",
       "min     18.0       13.0  18.000000\n",
       "25%     18.5       13.5  18.500000\n",
       "50%     19.0       14.0  19.000000\n",
       "75%     19.5       14.5  19.250000\n",
       "max     20.0       15.0  19.500000"
      ]
     },
     "execution_count": 96,
     "metadata": {},
     "output_type": "execute_result"
    }
   ],
   "source": [
    "df.describe() # Loved it"
   ]
  },
  {
   "cell_type": "markdown",
   "id": "86c3a876",
   "metadata": {},
   "source": [
    "# Slicing"
   ]
  },
  {
   "cell_type": "code",
   "execution_count": 97,
   "id": "1a6ec171",
   "metadata": {},
   "outputs": [
    {
     "data": {
      "text/plain": [
       "<pandas.core.indexing._iLocIndexer at 0x7fcf6243f810>"
      ]
     },
     "execution_count": 97,
     "metadata": {},
     "output_type": "execute_result"
    }
   ],
   "source": [
    "df.loc\n",
    "df.iloc"
   ]
  },
  {
   "cell_type": "code",
   "execution_count": 98,
   "id": "949a31f3",
   "metadata": {},
   "outputs": [
    {
     "data": {
      "text/html": [
       "<div>\n",
       "<style scoped>\n",
       "    .dataframe tbody tr th:only-of-type {\n",
       "        vertical-align: middle;\n",
       "    }\n",
       "\n",
       "    .dataframe tbody tr th {\n",
       "        vertical-align: top;\n",
       "    }\n",
       "\n",
       "    .dataframe thead th {\n",
       "        text-align: right;\n",
       "    }\n",
       "</style>\n",
       "<table border=\"1\" class=\"dataframe\">\n",
       "  <thead>\n",
       "    <tr style=\"text-align: right;\">\n",
       "      <th></th>\n",
       "      <th>Name</th>\n",
       "      <th>Maths</th>\n",
       "      <th>Chemistry</th>\n",
       "      <th>Physics</th>\n",
       "    </tr>\n",
       "  </thead>\n",
       "  <tbody>\n",
       "    <tr>\n",
       "      <th>0</th>\n",
       "      <td>Ram</td>\n",
       "      <td>19</td>\n",
       "      <td>14</td>\n",
       "      <td>19.0</td>\n",
       "    </tr>\n",
       "    <tr>\n",
       "      <th>1</th>\n",
       "      <td>Sham</td>\n",
       "      <td>18</td>\n",
       "      <td>15</td>\n",
       "      <td>19.5</td>\n",
       "    </tr>\n",
       "    <tr>\n",
       "      <th>2</th>\n",
       "      <td>Ghansham</td>\n",
       "      <td>20</td>\n",
       "      <td>13</td>\n",
       "      <td>18.0</td>\n",
       "    </tr>\n",
       "  </tbody>\n",
       "</table>\n",
       "</div>"
      ],
      "text/plain": [
       "       Name  Maths  Chemistry  Physics\n",
       "0       Ram     19         14     19.0\n",
       "1      Sham     18         15     19.5\n",
       "2  Ghansham     20         13     18.0"
      ]
     },
     "execution_count": 98,
     "metadata": {},
     "output_type": "execute_result"
    }
   ],
   "source": [
    "df"
   ]
  },
  {
   "cell_type": "code",
   "execution_count": 99,
   "id": "9bb90b68",
   "metadata": {},
   "outputs": [
    {
     "data": {
      "text/plain": [
       "Name         Sham\n",
       "Maths          18\n",
       "Chemistry      15\n",
       "Physics      19.5\n",
       "Name: 1, dtype: object"
      ]
     },
     "execution_count": 99,
     "metadata": {},
     "output_type": "execute_result"
    }
   ],
   "source": [
    "df.loc[1] # Here we are able to extract the row 1 # it can not take negative value as NumPy slicing do"
   ]
  },
  {
   "cell_type": "code",
   "execution_count": 100,
   "id": "f1bc6b83",
   "metadata": {},
   "outputs": [
    {
     "data": {
      "text/plain": [
       "pandas.core.series.Series"
      ]
     },
     "execution_count": 100,
     "metadata": {},
     "output_type": "execute_result"
    }
   ],
   "source": [
    "type(df.loc[1]) # Series "
   ]
  },
  {
   "cell_type": "code",
   "execution_count": 101,
   "id": "5b017627",
   "metadata": {},
   "outputs": [
    {
     "data": {
      "text/plain": [
       "Name         Sham\n",
       "Maths          18\n",
       "Chemistry      15\n",
       "Physics      19.5\n",
       "Name: 1, dtype: object"
      ]
     },
     "execution_count": 101,
     "metadata": {},
     "output_type": "execute_result"
    }
   ],
   "source": [
    "df.iloc[1]"
   ]
  },
  {
   "cell_type": "code",
   "execution_count": 102,
   "id": "34193c91",
   "metadata": {},
   "outputs": [
    {
     "data": {
      "text/plain": [
       "Name         Ghansham\n",
       "Maths              20\n",
       "Chemistry          13\n",
       "Physics          18.0\n",
       "Name: 2, dtype: object"
      ]
     },
     "execution_count": 102,
     "metadata": {},
     "output_type": "execute_result"
    }
   ],
   "source": [
    "# iloc function acts just as nympy slicing function. That ca take negative values\n",
    "df.iloc[-1]"
   ]
  },
  {
   "cell_type": "code",
   "execution_count": 103,
   "id": "00056837",
   "metadata": {},
   "outputs": [
    {
     "data": {
      "text/html": [
       "<div>\n",
       "<style scoped>\n",
       "    .dataframe tbody tr th:only-of-type {\n",
       "        vertical-align: middle;\n",
       "    }\n",
       "\n",
       "    .dataframe tbody tr th {\n",
       "        vertical-align: top;\n",
       "    }\n",
       "\n",
       "    .dataframe thead th {\n",
       "        text-align: right;\n",
       "    }\n",
       "</style>\n",
       "<table border=\"1\" class=\"dataframe\">\n",
       "  <thead>\n",
       "    <tr style=\"text-align: right;\">\n",
       "      <th></th>\n",
       "      <th>Name</th>\n",
       "      <th>Maths</th>\n",
       "      <th>Chemistry</th>\n",
       "      <th>Physics</th>\n",
       "    </tr>\n",
       "  </thead>\n",
       "  <tbody>\n",
       "    <tr>\n",
       "      <th>1</th>\n",
       "      <td>Sham</td>\n",
       "      <td>18</td>\n",
       "      <td>15</td>\n",
       "      <td>19.5</td>\n",
       "    </tr>\n",
       "    <tr>\n",
       "      <th>2</th>\n",
       "      <td>Ghansham</td>\n",
       "      <td>20</td>\n",
       "      <td>13</td>\n",
       "      <td>18.0</td>\n",
       "    </tr>\n",
       "  </tbody>\n",
       "</table>\n",
       "</div>"
      ],
      "text/plain": [
       "       Name  Maths  Chemistry  Physics\n",
       "1      Sham     18         15     19.5\n",
       "2  Ghansham     20         13     18.0"
      ]
     },
     "execution_count": 103,
     "metadata": {},
     "output_type": "execute_result"
    }
   ],
   "source": [
    "df.iloc[1:3] "
   ]
  },
  {
   "cell_type": "markdown",
   "id": "7f8a68af",
   "metadata": {},
   "source": [
    "# Grouped Operation"
   ]
  },
  {
   "cell_type": "code",
   "execution_count": 104,
   "id": "7ca69293",
   "metadata": {},
   "outputs": [],
   "source": [
    "# Let' define a new table of cities and countries.\n",
    "df =pd.DataFrame({\n",
    "    'Country': [\"India\",\"India\",\"USA\",\"UAE\",\"UK\",\"India\",\"USA\",\"Russia\",\"Italy\",\"France\",\"UK\"],\n",
    "    'City': [\"Delhi\",\"Mumbai\",\"New York\",\"Dubai\",\"London\",\"YamunaNagar\",\"Washington D.C\",\"Moscow\",\"Venice\",\"Paris\",\n",
    "             \"Manchester\"],\n",
    "    'x' : rng.random(11),\n",
    "    'y' : rng.random(11)})"
   ]
  },
  {
   "cell_type": "code",
   "execution_count": 105,
   "id": "ffaf0c02",
   "metadata": {},
   "outputs": [
    {
     "data": {
      "text/html": [
       "<div>\n",
       "<style scoped>\n",
       "    .dataframe tbody tr th:only-of-type {\n",
       "        vertical-align: middle;\n",
       "    }\n",
       "\n",
       "    .dataframe tbody tr th {\n",
       "        vertical-align: top;\n",
       "    }\n",
       "\n",
       "    .dataframe thead th {\n",
       "        text-align: right;\n",
       "    }\n",
       "</style>\n",
       "<table border=\"1\" class=\"dataframe\">\n",
       "  <thead>\n",
       "    <tr style=\"text-align: right;\">\n",
       "      <th></th>\n",
       "      <th>Country</th>\n",
       "      <th>City</th>\n",
       "      <th>x</th>\n",
       "      <th>y</th>\n",
       "    </tr>\n",
       "  </thead>\n",
       "  <tbody>\n",
       "    <tr>\n",
       "      <th>0</th>\n",
       "      <td>India</td>\n",
       "      <td>Delhi</td>\n",
       "      <td>0.975622</td>\n",
       "      <td>0.554585</td>\n",
       "    </tr>\n",
       "    <tr>\n",
       "      <th>1</th>\n",
       "      <td>India</td>\n",
       "      <td>Mumbai</td>\n",
       "      <td>0.761140</td>\n",
       "      <td>0.063817</td>\n",
       "    </tr>\n",
       "    <tr>\n",
       "      <th>2</th>\n",
       "      <td>USA</td>\n",
       "      <td>New York</td>\n",
       "      <td>0.786064</td>\n",
       "      <td>0.827631</td>\n",
       "    </tr>\n",
       "    <tr>\n",
       "      <th>3</th>\n",
       "      <td>UAE</td>\n",
       "      <td>Dubai</td>\n",
       "      <td>0.128114</td>\n",
       "      <td>0.631664</td>\n",
       "    </tr>\n",
       "    <tr>\n",
       "      <th>4</th>\n",
       "      <td>UK</td>\n",
       "      <td>London</td>\n",
       "      <td>0.450386</td>\n",
       "      <td>0.758088</td>\n",
       "    </tr>\n",
       "    <tr>\n",
       "      <th>5</th>\n",
       "      <td>India</td>\n",
       "      <td>YamunaNagar</td>\n",
       "      <td>0.370798</td>\n",
       "      <td>0.354526</td>\n",
       "    </tr>\n",
       "    <tr>\n",
       "      <th>6</th>\n",
       "      <td>USA</td>\n",
       "      <td>Washington D.C</td>\n",
       "      <td>0.926765</td>\n",
       "      <td>0.970698</td>\n",
       "    </tr>\n",
       "    <tr>\n",
       "      <th>7</th>\n",
       "      <td>Russia</td>\n",
       "      <td>Moscow</td>\n",
       "      <td>0.643865</td>\n",
       "      <td>0.893121</td>\n",
       "    </tr>\n",
       "    <tr>\n",
       "      <th>8</th>\n",
       "      <td>Italy</td>\n",
       "      <td>Venice</td>\n",
       "      <td>0.822762</td>\n",
       "      <td>0.778383</td>\n",
       "    </tr>\n",
       "    <tr>\n",
       "      <th>9</th>\n",
       "      <td>France</td>\n",
       "      <td>Paris</td>\n",
       "      <td>0.443414</td>\n",
       "      <td>0.194639</td>\n",
       "    </tr>\n",
       "    <tr>\n",
       "      <th>10</th>\n",
       "      <td>UK</td>\n",
       "      <td>Manchester</td>\n",
       "      <td>0.227239</td>\n",
       "      <td>0.466721</td>\n",
       "    </tr>\n",
       "  </tbody>\n",
       "</table>\n",
       "</div>"
      ],
      "text/plain": [
       "   Country            City         x         y\n",
       "0    India           Delhi  0.975622  0.554585\n",
       "1    India          Mumbai  0.761140  0.063817\n",
       "2      USA        New York  0.786064  0.827631\n",
       "3      UAE           Dubai  0.128114  0.631664\n",
       "4       UK          London  0.450386  0.758088\n",
       "5    India     YamunaNagar  0.370798  0.354526\n",
       "6      USA  Washington D.C  0.926765  0.970698\n",
       "7   Russia          Moscow  0.643865  0.893121\n",
       "8    Italy          Venice  0.822762  0.778383\n",
       "9   France           Paris  0.443414  0.194639\n",
       "10      UK      Manchester  0.227239  0.466721"
      ]
     },
     "execution_count": 105,
     "metadata": {},
     "output_type": "execute_result"
    }
   ],
   "source": [
    "df # Random x,y values are taken "
   ]
  },
  {
   "cell_type": "code",
   "execution_count": 106,
   "id": "ee63ac6a",
   "metadata": {},
   "outputs": [],
   "source": [
    "df_by_country = df.groupby('Country')"
   ]
  },
  {
   "cell_type": "code",
   "execution_count": 107,
   "id": "cacab745",
   "metadata": {},
   "outputs": [
    {
     "data": {
      "text/plain": [
       "{'France': [9], 'India': [0, 1, 5], 'Italy': [8], 'Russia': [7], 'UAE': [3], 'UK': [4, 10], 'USA': [2, 6]}"
      ]
     },
     "execution_count": 107,
     "metadata": {},
     "output_type": "execute_result"
    }
   ],
   "source": [
    "df_by_country.groups # Index"
   ]
  },
  {
   "cell_type": "code",
   "execution_count": 108,
   "id": "23ad044b",
   "metadata": {},
   "outputs": [
    {
     "data": {
      "text/html": [
       "<div>\n",
       "<style scoped>\n",
       "    .dataframe tbody tr th:only-of-type {\n",
       "        vertical-align: middle;\n",
       "    }\n",
       "\n",
       "    .dataframe tbody tr th {\n",
       "        vertical-align: top;\n",
       "    }\n",
       "\n",
       "    .dataframe thead th {\n",
       "        text-align: right;\n",
       "    }\n",
       "</style>\n",
       "<table border=\"1\" class=\"dataframe\">\n",
       "  <thead>\n",
       "    <tr style=\"text-align: right;\">\n",
       "      <th></th>\n",
       "      <th>Country</th>\n",
       "      <th>City</th>\n",
       "      <th>x</th>\n",
       "      <th>y</th>\n",
       "    </tr>\n",
       "  </thead>\n",
       "  <tbody>\n",
       "    <tr>\n",
       "      <th>0</th>\n",
       "      <td>India</td>\n",
       "      <td>Delhi</td>\n",
       "      <td>0.975622</td>\n",
       "      <td>0.554585</td>\n",
       "    </tr>\n",
       "    <tr>\n",
       "      <th>1</th>\n",
       "      <td>India</td>\n",
       "      <td>Mumbai</td>\n",
       "      <td>0.761140</td>\n",
       "      <td>0.063817</td>\n",
       "    </tr>\n",
       "    <tr>\n",
       "      <th>5</th>\n",
       "      <td>India</td>\n",
       "      <td>YamunaNagar</td>\n",
       "      <td>0.370798</td>\n",
       "      <td>0.354526</td>\n",
       "    </tr>\n",
       "  </tbody>\n",
       "</table>\n",
       "</div>"
      ],
      "text/plain": [
       "  Country         City         x         y\n",
       "0   India        Delhi  0.975622  0.554585\n",
       "1   India       Mumbai  0.761140  0.063817\n",
       "5   India  YamunaNagar  0.370798  0.354526"
      ]
     },
     "execution_count": 108,
     "metadata": {},
     "output_type": "execute_result"
    }
   ],
   "source": [
    "df_by_country.get_group('India') # Specific Entries of India Only"
   ]
  },
  {
   "cell_type": "code",
   "execution_count": 109,
   "id": "00887de8",
   "metadata": {},
   "outputs": [
    {
     "data": {
      "text/plain": [
       "0          Delhi\n",
       "1         Mumbai\n",
       "5    YamunaNagar\n",
       "Name: City, dtype: object"
      ]
     },
     "execution_count": 109,
     "metadata": {},
     "output_type": "execute_result"
    }
   ],
   "source": [
    "df_by_country.get_group('India')[\"City\"] # to access specific column"
   ]
  },
  {
   "cell_type": "code",
   "execution_count": 110,
   "id": "8f4f4dff",
   "metadata": {},
   "outputs": [],
   "source": [
    "# New Table\n",
    "df = pd.DataFrame({\n",
    "    \"Event_id\" :[1,1,1,2,2,2,3,3,3],\n",
    "    \"Hit_Time\" :[23,34,53,12,44,67,78,34,67],\n",
    "    \"pmt_id\" : [2,4,6,9,3,4,8,3,7]\n",
    "    })"
   ]
  },
  {
   "cell_type": "code",
   "execution_count": 111,
   "id": "205c5117",
   "metadata": {},
   "outputs": [
    {
     "data": {
      "text/html": [
       "<div>\n",
       "<style scoped>\n",
       "    .dataframe tbody tr th:only-of-type {\n",
       "        vertical-align: middle;\n",
       "    }\n",
       "\n",
       "    .dataframe tbody tr th {\n",
       "        vertical-align: top;\n",
       "    }\n",
       "\n",
       "    .dataframe thead th {\n",
       "        text-align: right;\n",
       "    }\n",
       "</style>\n",
       "<table border=\"1\" class=\"dataframe\">\n",
       "  <thead>\n",
       "    <tr style=\"text-align: right;\">\n",
       "      <th></th>\n",
       "      <th>Event_id</th>\n",
       "      <th>Hit_Time</th>\n",
       "      <th>pmt_id</th>\n",
       "    </tr>\n",
       "  </thead>\n",
       "  <tbody>\n",
       "    <tr>\n",
       "      <th>0</th>\n",
       "      <td>1</td>\n",
       "      <td>23</td>\n",
       "      <td>2</td>\n",
       "    </tr>\n",
       "    <tr>\n",
       "      <th>1</th>\n",
       "      <td>1</td>\n",
       "      <td>34</td>\n",
       "      <td>4</td>\n",
       "    </tr>\n",
       "    <tr>\n",
       "      <th>2</th>\n",
       "      <td>1</td>\n",
       "      <td>53</td>\n",
       "      <td>6</td>\n",
       "    </tr>\n",
       "    <tr>\n",
       "      <th>3</th>\n",
       "      <td>2</td>\n",
       "      <td>12</td>\n",
       "      <td>9</td>\n",
       "    </tr>\n",
       "    <tr>\n",
       "      <th>4</th>\n",
       "      <td>2</td>\n",
       "      <td>44</td>\n",
       "      <td>3</td>\n",
       "    </tr>\n",
       "    <tr>\n",
       "      <th>5</th>\n",
       "      <td>2</td>\n",
       "      <td>67</td>\n",
       "      <td>4</td>\n",
       "    </tr>\n",
       "    <tr>\n",
       "      <th>6</th>\n",
       "      <td>3</td>\n",
       "      <td>78</td>\n",
       "      <td>8</td>\n",
       "    </tr>\n",
       "    <tr>\n",
       "      <th>7</th>\n",
       "      <td>3</td>\n",
       "      <td>34</td>\n",
       "      <td>3</td>\n",
       "    </tr>\n",
       "    <tr>\n",
       "      <th>8</th>\n",
       "      <td>3</td>\n",
       "      <td>67</td>\n",
       "      <td>7</td>\n",
       "    </tr>\n",
       "  </tbody>\n",
       "</table>\n",
       "</div>"
      ],
      "text/plain": [
       "   Event_id  Hit_Time  pmt_id\n",
       "0         1        23       2\n",
       "1         1        34       4\n",
       "2         1        53       6\n",
       "3         2        12       9\n",
       "4         2        44       3\n",
       "5         2        67       4\n",
       "6         3        78       8\n",
       "7         3        34       3\n",
       "8         3        67       7"
      ]
     },
     "execution_count": 111,
     "metadata": {},
     "output_type": "execute_result"
    }
   ],
   "source": [
    "df"
   ]
  },
  {
   "cell_type": "code",
   "execution_count": 112,
   "id": "7539af0b",
   "metadata": {},
   "outputs": [
    {
     "name": "stdout",
     "output_type": "stream",
     "text": [
      "1\n",
      "   Event_id  Hit_Time  pmt_id\n",
      "0         1        23       2\n",
      "1         1        34       4\n",
      "2         1        53       6\n",
      "\n",
      "2\n",
      "   Event_id  Hit_Time  pmt_id\n",
      "3         2        12       9\n",
      "4         2        44       3\n",
      "5         2        67       4\n",
      "\n",
      "3\n",
      "   Event_id  Hit_Time  pmt_id\n",
      "6         3        78       8\n",
      "7         3        34       3\n",
      "8         3        67       7\n",
      "\n"
     ]
    }
   ],
   "source": [
    "for Event_id,hits in df.groupby(\"Event_id\"):\n",
    "    print(Event_id)\n",
    "    print(hits)\n",
    "    print()"
   ]
  },
  {
   "cell_type": "code",
   "execution_count": 113,
   "id": "6accf2f7",
   "metadata": {},
   "outputs": [
    {
     "data": {
      "text/plain": [
       "Event_id\n",
       "1    23\n",
       "2    12\n",
       "3    34\n",
       "Name: Hit_Time, dtype: int64"
      ]
     },
     "execution_count": 113,
     "metadata": {},
     "output_type": "execute_result"
    }
   ],
   "source": [
    "df.groupby(\"Event_id\")['Hit_Time'].min()  # I have taken minimum value for each event_id   #1"
   ]
  },
  {
   "cell_type": "code",
   "execution_count": 114,
   "id": "a48950db-dfb5-4f07-a62c-6cae63ae39a3",
   "metadata": {},
   "outputs": [
    {
     "data": {
      "text/plain": [
       "Event_id\n",
       "1    53\n",
       "2    67\n",
       "3    78\n",
       "Name: Hit_Time, dtype: int64"
      ]
     },
     "execution_count": 114,
     "metadata": {},
     "output_type": "execute_result"
    }
   ],
   "source": [
    "df.groupby(\"Event_id\")['Hit_Time'].max()  # I have taken maximum value for each event_id"
   ]
  },
  {
   "cell_type": "code",
   "execution_count": 115,
   "id": "1c052bd1-6cb6-43ad-8e85-8e3cf75da133",
   "metadata": {},
   "outputs": [
    {
     "data": {
      "text/plain": [
       "Event_id\n",
       "1    110\n",
       "2    123\n",
       "3    179\n",
       "Name: Hit_Time, dtype: int64"
      ]
     },
     "execution_count": 115,
     "metadata": {},
     "output_type": "execute_result"
    }
   ],
   "source": [
    "df.groupby(\"Event_id\")['Hit_Time'].sum()  # I have taken summations of each hit_time values in each vevent_id"
   ]
  },
  {
   "cell_type": "code",
   "execution_count": 116,
   "id": "c9998da0-1867-43b9-9db6-ac29436a8e97",
   "metadata": {},
   "outputs": [
    {
     "data": {
      "text/plain": [
       "Event_id\n",
       "1    53\n",
       "2    67\n",
       "3    78\n",
       "Name: Hit_Time, dtype: int64"
      ]
     },
     "execution_count": 116,
     "metadata": {},
     "output_type": "execute_result"
    }
   ],
   "source": [
    "# now,let's call it a different way   #2\n",
    "df.groupby(\"Event_id\")['Hit_Time'].aggregate(\"max\")  # I have taken maximum value for each event_id"
   ]
  },
  {
   "cell_type": "code",
   "execution_count": 117,
   "id": "37e2312c-8dad-47b9-8297-ba03e2635142",
   "metadata": {},
   "outputs": [
    {
     "data": {
      "text/html": [
       "<div>\n",
       "<style scoped>\n",
       "    .dataframe tbody tr th:only-of-type {\n",
       "        vertical-align: middle;\n",
       "    }\n",
       "\n",
       "    .dataframe tbody tr th {\n",
       "        vertical-align: top;\n",
       "    }\n",
       "\n",
       "    .dataframe thead th {\n",
       "        text-align: right;\n",
       "    }\n",
       "</style>\n",
       "<table border=\"1\" class=\"dataframe\">\n",
       "  <thead>\n",
       "    <tr style=\"text-align: right;\">\n",
       "      <th></th>\n",
       "      <th>amin</th>\n",
       "      <th>median</th>\n",
       "      <th>mean</th>\n",
       "      <th>sum</th>\n",
       "      <th>min</th>\n",
       "      <th>max</th>\n",
       "    </tr>\n",
       "    <tr>\n",
       "      <th>Event_id</th>\n",
       "      <th></th>\n",
       "      <th></th>\n",
       "      <th></th>\n",
       "      <th></th>\n",
       "      <th></th>\n",
       "      <th></th>\n",
       "    </tr>\n",
       "  </thead>\n",
       "  <tbody>\n",
       "    <tr>\n",
       "      <th>1</th>\n",
       "      <td>23</td>\n",
       "      <td>34</td>\n",
       "      <td>36.666667</td>\n",
       "      <td>110</td>\n",
       "      <td>23</td>\n",
       "      <td>53</td>\n",
       "    </tr>\n",
       "    <tr>\n",
       "      <th>2</th>\n",
       "      <td>12</td>\n",
       "      <td>44</td>\n",
       "      <td>41.000000</td>\n",
       "      <td>123</td>\n",
       "      <td>12</td>\n",
       "      <td>67</td>\n",
       "    </tr>\n",
       "    <tr>\n",
       "      <th>3</th>\n",
       "      <td>34</td>\n",
       "      <td>67</td>\n",
       "      <td>59.666667</td>\n",
       "      <td>179</td>\n",
       "      <td>34</td>\n",
       "      <td>78</td>\n",
       "    </tr>\n",
       "  </tbody>\n",
       "</table>\n",
       "</div>"
      ],
      "text/plain": [
       "          amin  median       mean  sum  min  max\n",
       "Event_id                                        \n",
       "1           23      34  36.666667  110   23   53\n",
       "2           12      44  41.000000  123   12   67\n",
       "3           34      67  59.666667  179   34   78"
      ]
     },
     "execution_count": 117,
     "metadata": {},
     "output_type": "execute_result"
    }
   ],
   "source": [
    "#2 can be used in creating multiple analysis at the same time          # Great\n",
    "df.groupby(\"Event_id\")['Hit_Time'].aggregate([np.min,np.median,np.mean,np.sum,min,max])  # I have taken minimum value for each event_id"
   ]
  },
  {
   "cell_type": "markdown",
   "id": "acd15c31-08c3-4215-98a7-6ba3d24d7e1d",
   "metadata": {},
   "source": [
    "### Transformations"
   ]
  },
  {
   "cell_type": "code",
   "execution_count": 118,
   "id": "f75d5a20-a30c-4eb7-9e24-219dc2039a9a",
   "metadata": {},
   "outputs": [],
   "source": [
    "N = 1000\n",
    "index = pd.date_range(\"2022-03-13\",periods = N,freq = 'D')"
   ]
  },
  {
   "cell_type": "code",
   "execution_count": 119,
   "id": "3323d875-e6f1-4aad-aa93-5a52ff8aa025",
   "metadata": {},
   "outputs": [
    {
     "data": {
      "text/plain": [
       "DatetimeIndex(['2022-03-13', '2022-03-14', '2022-03-15', '2022-03-16',\n",
       "               '2022-03-17', '2022-03-18', '2022-03-19', '2022-03-20',\n",
       "               '2022-03-21', '2022-03-22',\n",
       "               ...\n",
       "               '2024-11-27', '2024-11-28', '2024-11-29', '2024-11-30',\n",
       "               '2024-12-01', '2024-12-02', '2024-12-03', '2024-12-04',\n",
       "               '2024-12-05', '2024-12-06'],\n",
       "              dtype='datetime64[ns]', length=1000, freq='D')"
      ]
     },
     "execution_count": 119,
     "metadata": {},
     "output_type": "execute_result"
    }
   ],
   "source": [
    "index   # array of 1000 days from 2022-03-13 "
   ]
  },
  {
   "cell_type": "code",
   "execution_count": 120,
   "id": "25c4d5e0-7e1e-4dd2-929c-d1fe57edc58f",
   "metadata": {},
   "outputs": [
    {
     "data": {
      "text/plain": [
       "DatetimeIndex(['2022-03-13 00:00:00', '2022-03-13 01:00:00',\n",
       "               '2022-03-13 02:00:00', '2022-03-13 03:00:00',\n",
       "               '2022-03-13 04:00:00', '2022-03-13 05:00:00',\n",
       "               '2022-03-13 06:00:00', '2022-03-13 07:00:00',\n",
       "               '2022-03-13 08:00:00', '2022-03-13 09:00:00',\n",
       "               ...\n",
       "               '2022-04-23 06:00:00', '2022-04-23 07:00:00',\n",
       "               '2022-04-23 08:00:00', '2022-04-23 09:00:00',\n",
       "               '2022-04-23 10:00:00', '2022-04-23 11:00:00',\n",
       "               '2022-04-23 12:00:00', '2022-04-23 13:00:00',\n",
       "               '2022-04-23 14:00:00', '2022-04-23 15:00:00'],\n",
       "              dtype='datetime64[ns]', length=1000, freq='H')"
      ]
     },
     "execution_count": 120,
     "metadata": {},
     "output_type": "execute_result"
    }
   ],
   "source": [
    "N = 1000\n",
    "index1 = pd.date_range(\"2022-03-13\",periods = N,freq = 'H')\n",
    "index1 # 1000 elements with hour difference"
   ]
  },
  {
   "cell_type": "code",
   "execution_count": 121,
   "id": "1aadf07a-a795-431e-9b46-319bb14a0a77",
   "metadata": {},
   "outputs": [
    {
     "data": {
      "text/plain": [
       "2022-03-13    1.230888\n",
       "2022-03-14    1.325465\n",
       "2022-03-15    1.361642\n",
       "2022-03-16    4.783295\n",
       "2022-03-17   -0.312830\n",
       "                ...   \n",
       "2024-12-02    1.319657\n",
       "2024-12-03    1.732269\n",
       "2024-12-04   -3.715907\n",
       "2024-12-05   -0.228877\n",
       "2024-12-06   -3.860420\n",
       "Freq: D, Length: 1000, dtype: float64"
      ]
     },
     "execution_count": 121,
     "metadata": {},
     "output_type": "execute_result"
    }
   ],
   "source": [
    "ts = pd.Series(rng.normal(0.5,2,N),index)\n",
    "ts   # a random value between {0.5,2} is now associated withh each element of the index"
   ]
  },
  {
   "cell_type": "markdown",
   "id": "8cbf9847-fbe1-4040-8113-a750b1cc0b7f",
   "metadata": {},
   "source": [
    "----------------------------\n",
    "Series.rolling(window, min_periods=None, center=False, win_type=None, on=None, axis=0, closed=None, method='single')"
   ]
  },
  {
   "cell_type": "code",
   "execution_count": 122,
   "id": "87214e36-0e27-40ed-a2ea-abf254ee82d8",
   "metadata": {},
   "outputs": [
    {
     "data": {
      "text/plain": [
       "2022-03-13         NaN\n",
       "2022-03-14         NaN\n",
       "2022-03-15         NaN\n",
       "2022-03-16         NaN\n",
       "2022-03-17         NaN\n",
       "                ...   \n",
       "2024-12-02    0.618548\n",
       "2024-12-03    0.642299\n",
       "2024-12-04    0.603463\n",
       "2024-12-05    0.558531\n",
       "2024-12-06    0.518321\n",
       "Freq: D, Length: 1000, dtype: float64"
      ]
     },
     "execution_count": 122,
     "metadata": {},
     "output_type": "execute_result"
    }
   ],
   "source": [
    "ts.rolling(window=100,min_periods = 100).mean()"
   ]
  },
  {
   "cell_type": "code",
   "execution_count": 123,
   "id": "db9341cf-3263-496d-bd1b-7507d58e5a34",
   "metadata": {},
   "outputs": [
    {
     "data": {
      "text/plain": [
       "2022-06-20    0.436932\n",
       "2022-06-21    0.405848\n",
       "2022-06-22    0.384798\n",
       "2022-06-23    0.357650\n",
       "2022-06-24    0.307021\n",
       "                ...   \n",
       "2024-12-02    0.618548\n",
       "2024-12-03    0.642299\n",
       "2024-12-04    0.603463\n",
       "2024-12-05    0.558531\n",
       "2024-12-06    0.518321\n",
       "Freq: D, Length: 901, dtype: float64"
      ]
     },
     "execution_count": 123,
     "metadata": {},
     "output_type": "execute_result"
    }
   ],
   "source": [
    "ts = ts.rolling(window=100,min_periods = 100).mean().dropna()\n",
    "ts  # 99 elements less than original ts"
   ]
  },
  {
   "cell_type": "code",
   "execution_count": 125,
   "id": "738a5c2d-2f6d-4d3d-b3d2-f99ce08a92d1",
   "metadata": {},
   "outputs": [
    {
     "data": {
      "text/plain": [
       "{2022: [2022-06-20 00:00:00, 2022-06-21 00:00:00, 2022-06-22 00:00:00, 2022-06-23 00:00:00, 2022-06-24 00:00:00, 2022-06-25 00:00:00, 2022-06-26 00:00:00, 2022-06-27 00:00:00, 2022-06-28 00:00:00, 2022-06-29 00:00:00, 2022-06-30 00:00:00, 2022-07-01 00:00:00, 2022-07-02 00:00:00, 2022-07-03 00:00:00, 2022-07-04 00:00:00, 2022-07-05 00:00:00, 2022-07-06 00:00:00, 2022-07-07 00:00:00, 2022-07-08 00:00:00, 2022-07-09 00:00:00, 2022-07-10 00:00:00, 2022-07-11 00:00:00, 2022-07-12 00:00:00, 2022-07-13 00:00:00, 2022-07-14 00:00:00, 2022-07-15 00:00:00, 2022-07-16 00:00:00, 2022-07-17 00:00:00, 2022-07-18 00:00:00, 2022-07-19 00:00:00, 2022-07-20 00:00:00, 2022-07-21 00:00:00, 2022-07-22 00:00:00, 2022-07-23 00:00:00, 2022-07-24 00:00:00, 2022-07-25 00:00:00, 2022-07-26 00:00:00, 2022-07-27 00:00:00, 2022-07-28 00:00:00, 2022-07-29 00:00:00, 2022-07-30 00:00:00, 2022-07-31 00:00:00, 2022-08-01 00:00:00, 2022-08-02 00:00:00, 2022-08-03 00:00:00, 2022-08-04 00:00:00, 2022-08-05 00:00:00, 2022-08-06 00:00:00, 2022-08-07 00:00:00, 2022-08-08 00:00:00, 2022-08-09 00:00:00, 2022-08-10 00:00:00, 2022-08-11 00:00:00, 2022-08-12 00:00:00, 2022-08-13 00:00:00, 2022-08-14 00:00:00, 2022-08-15 00:00:00, 2022-08-16 00:00:00, 2022-08-17 00:00:00, 2022-08-18 00:00:00, 2022-08-19 00:00:00, 2022-08-20 00:00:00, 2022-08-21 00:00:00, 2022-08-22 00:00:00, 2022-08-23 00:00:00, 2022-08-24 00:00:00, 2022-08-25 00:00:00, 2022-08-26 00:00:00, 2022-08-27 00:00:00, 2022-08-28 00:00:00, 2022-08-29 00:00:00, 2022-08-30 00:00:00, 2022-08-31 00:00:00, 2022-09-01 00:00:00, 2022-09-02 00:00:00, 2022-09-03 00:00:00, 2022-09-04 00:00:00, 2022-09-05 00:00:00, 2022-09-06 00:00:00, 2022-09-07 00:00:00, 2022-09-08 00:00:00, 2022-09-09 00:00:00, 2022-09-10 00:00:00, 2022-09-11 00:00:00, 2022-09-12 00:00:00, 2022-09-13 00:00:00, 2022-09-14 00:00:00, 2022-09-15 00:00:00, 2022-09-16 00:00:00, 2022-09-17 00:00:00, 2022-09-18 00:00:00, 2022-09-19 00:00:00, 2022-09-20 00:00:00, 2022-09-21 00:00:00, 2022-09-22 00:00:00, 2022-09-23 00:00:00, 2022-09-24 00:00:00, 2022-09-25 00:00:00, 2022-09-26 00:00:00, 2022-09-27 00:00:00, ...], 2023: [2023-01-01 00:00:00, 2023-01-02 00:00:00, 2023-01-03 00:00:00, 2023-01-04 00:00:00, 2023-01-05 00:00:00, 2023-01-06 00:00:00, 2023-01-07 00:00:00, 2023-01-08 00:00:00, 2023-01-09 00:00:00, 2023-01-10 00:00:00, 2023-01-11 00:00:00, 2023-01-12 00:00:00, 2023-01-13 00:00:00, 2023-01-14 00:00:00, 2023-01-15 00:00:00, 2023-01-16 00:00:00, 2023-01-17 00:00:00, 2023-01-18 00:00:00, 2023-01-19 00:00:00, 2023-01-20 00:00:00, 2023-01-21 00:00:00, 2023-01-22 00:00:00, 2023-01-23 00:00:00, 2023-01-24 00:00:00, 2023-01-25 00:00:00, 2023-01-26 00:00:00, 2023-01-27 00:00:00, 2023-01-28 00:00:00, 2023-01-29 00:00:00, 2023-01-30 00:00:00, 2023-01-31 00:00:00, 2023-02-01 00:00:00, 2023-02-02 00:00:00, 2023-02-03 00:00:00, 2023-02-04 00:00:00, 2023-02-05 00:00:00, 2023-02-06 00:00:00, 2023-02-07 00:00:00, 2023-02-08 00:00:00, 2023-02-09 00:00:00, 2023-02-10 00:00:00, 2023-02-11 00:00:00, 2023-02-12 00:00:00, 2023-02-13 00:00:00, 2023-02-14 00:00:00, 2023-02-15 00:00:00, 2023-02-16 00:00:00, 2023-02-17 00:00:00, 2023-02-18 00:00:00, 2023-02-19 00:00:00, 2023-02-20 00:00:00, 2023-02-21 00:00:00, 2023-02-22 00:00:00, 2023-02-23 00:00:00, 2023-02-24 00:00:00, 2023-02-25 00:00:00, 2023-02-26 00:00:00, 2023-02-27 00:00:00, 2023-02-28 00:00:00, 2023-03-01 00:00:00, 2023-03-02 00:00:00, 2023-03-03 00:00:00, 2023-03-04 00:00:00, 2023-03-05 00:00:00, 2023-03-06 00:00:00, 2023-03-07 00:00:00, 2023-03-08 00:00:00, 2023-03-09 00:00:00, 2023-03-10 00:00:00, 2023-03-11 00:00:00, 2023-03-12 00:00:00, 2023-03-13 00:00:00, 2023-03-14 00:00:00, 2023-03-15 00:00:00, 2023-03-16 00:00:00, 2023-03-17 00:00:00, 2023-03-18 00:00:00, 2023-03-19 00:00:00, 2023-03-20 00:00:00, 2023-03-21 00:00:00, 2023-03-22 00:00:00, 2023-03-23 00:00:00, 2023-03-24 00:00:00, 2023-03-25 00:00:00, 2023-03-26 00:00:00, 2023-03-27 00:00:00, 2023-03-28 00:00:00, 2023-03-29 00:00:00, 2023-03-30 00:00:00, 2023-03-31 00:00:00, 2023-04-01 00:00:00, 2023-04-02 00:00:00, 2023-04-03 00:00:00, 2023-04-04 00:00:00, 2023-04-05 00:00:00, 2023-04-06 00:00:00, 2023-04-07 00:00:00, 2023-04-08 00:00:00, 2023-04-09 00:00:00, 2023-04-10 00:00:00, ...], 2024: [2024-01-01 00:00:00, 2024-01-02 00:00:00, 2024-01-03 00:00:00, 2024-01-04 00:00:00, 2024-01-05 00:00:00, 2024-01-06 00:00:00, 2024-01-07 00:00:00, 2024-01-08 00:00:00, 2024-01-09 00:00:00, 2024-01-10 00:00:00, 2024-01-11 00:00:00, 2024-01-12 00:00:00, 2024-01-13 00:00:00, 2024-01-14 00:00:00, 2024-01-15 00:00:00, 2024-01-16 00:00:00, 2024-01-17 00:00:00, 2024-01-18 00:00:00, 2024-01-19 00:00:00, 2024-01-20 00:00:00, 2024-01-21 00:00:00, 2024-01-22 00:00:00, 2024-01-23 00:00:00, 2024-01-24 00:00:00, 2024-01-25 00:00:00, 2024-01-26 00:00:00, 2024-01-27 00:00:00, 2024-01-28 00:00:00, 2024-01-29 00:00:00, 2024-01-30 00:00:00, 2024-01-31 00:00:00, 2024-02-01 00:00:00, 2024-02-02 00:00:00, 2024-02-03 00:00:00, 2024-02-04 00:00:00, 2024-02-05 00:00:00, 2024-02-06 00:00:00, 2024-02-07 00:00:00, 2024-02-08 00:00:00, 2024-02-09 00:00:00, 2024-02-10 00:00:00, 2024-02-11 00:00:00, 2024-02-12 00:00:00, 2024-02-13 00:00:00, 2024-02-14 00:00:00, 2024-02-15 00:00:00, 2024-02-16 00:00:00, 2024-02-17 00:00:00, 2024-02-18 00:00:00, 2024-02-19 00:00:00, 2024-02-20 00:00:00, 2024-02-21 00:00:00, 2024-02-22 00:00:00, 2024-02-23 00:00:00, 2024-02-24 00:00:00, 2024-02-25 00:00:00, 2024-02-26 00:00:00, 2024-02-27 00:00:00, 2024-02-28 00:00:00, 2024-02-29 00:00:00, 2024-03-01 00:00:00, 2024-03-02 00:00:00, 2024-03-03 00:00:00, 2024-03-04 00:00:00, 2024-03-05 00:00:00, 2024-03-06 00:00:00, 2024-03-07 00:00:00, 2024-03-08 00:00:00, 2024-03-09 00:00:00, 2024-03-10 00:00:00, 2024-03-11 00:00:00, 2024-03-12 00:00:00, 2024-03-13 00:00:00, 2024-03-14 00:00:00, 2024-03-15 00:00:00, 2024-03-16 00:00:00, 2024-03-17 00:00:00, 2024-03-18 00:00:00, 2024-03-19 00:00:00, 2024-03-20 00:00:00, 2024-03-21 00:00:00, 2024-03-22 00:00:00, 2024-03-23 00:00:00, 2024-03-24 00:00:00, 2024-03-25 00:00:00, 2024-03-26 00:00:00, 2024-03-27 00:00:00, 2024-03-28 00:00:00, 2024-03-29 00:00:00, 2024-03-30 00:00:00, 2024-03-31 00:00:00, 2024-04-01 00:00:00, 2024-04-02 00:00:00, 2024-04-03 00:00:00, 2024-04-04 00:00:00, 2024-04-05 00:00:00, 2024-04-06 00:00:00, 2024-04-07 00:00:00, 2024-04-08 00:00:00, 2024-04-09 00:00:00, ...]}"
      ]
     },
     "execution_count": 125,
     "metadata": {},
     "output_type": "execute_result"
    }
   ],
   "source": [
    "year = ts.groupby(lambda x: x.year).groups\n",
    "year # grouped by years"
   ]
  },
  {
   "cell_type": "code",
   "execution_count": 126,
   "id": "64fd6eb4-12c7-4f1d-8951-34faf2685c7e",
   "metadata": {},
   "outputs": [],
   "source": [
    "transformed = ts.groupby(lambda x: x.year).transform(lambda x: (x-x.mean())/x.std())"
   ]
  },
  {
   "cell_type": "code",
   "execution_count": 127,
   "id": "1f469d52-1680-4bc0-a66c-545eb89f366f",
   "metadata": {},
   "outputs": [
    {
     "data": {
      "text/plain": [
       "2022    0.403198\n",
       "2023    0.454044\n",
       "2024    0.417646\n",
       "dtype: float64"
      ]
     },
     "execution_count": 127,
     "metadata": {},
     "output_type": "execute_result"
    }
   ],
   "source": [
    "grouped = ts.groupby(lambda x: x.year)\n",
    "grouped.mean()"
   ]
  },
  {
   "cell_type": "code",
   "execution_count": 128,
   "id": "2c669c7c-c847-4d4d-bbd2-ffdb145c5c3e",
   "metadata": {},
   "outputs": [
    {
     "data": {
      "text/plain": [
       "2022    0.103040\n",
       "2023    0.150842\n",
       "2024    0.163102\n",
       "dtype: float64"
      ]
     },
     "execution_count": 128,
     "metadata": {},
     "output_type": "execute_result"
    }
   ],
   "source": [
    "grouped.std()  "
   ]
  },
  {
   "cell_type": "code",
   "execution_count": 129,
   "id": "15ebaa40-5e8e-4869-9e25-1a0a7d1a4641",
   "metadata": {},
   "outputs": [],
   "source": [
    "grouped_trans = transformed.groupby(lambda x: x.year)"
   ]
  },
  {
   "cell_type": "code",
   "execution_count": 130,
   "id": "404312aa-a39a-4e76-80fd-e4e469a4863a",
   "metadata": {},
   "outputs": [
    {
     "data": {
      "text/plain": [
       "2022    1.431334e-15\n",
       "2023    8.626281e-16\n",
       "2024    8.692949e-16\n",
       "dtype: float64"
      ]
     },
     "execution_count": 130,
     "metadata": {},
     "output_type": "execute_result"
    }
   ],
   "source": [
    "grouped_trans.mean()"
   ]
  },
  {
   "cell_type": "code",
   "execution_count": 131,
   "id": "c089d973-6492-446d-a214-6ccc2325c1c5",
   "metadata": {},
   "outputs": [
    {
     "data": {
      "text/plain": [
       "2022    1.0\n",
       "2023    1.0\n",
       "2024    1.0\n",
       "dtype: float64"
      ]
     },
     "execution_count": 131,
     "metadata": {},
     "output_type": "execute_result"
    }
   ],
   "source": [
    "grouped_trans.std() # by the transformation we get standard deviation equals to 1"
   ]
  },
  {
   "cell_type": "code",
   "execution_count": 132,
   "id": "fc967905-d758-4392-9367-6d74dc120eee",
   "metadata": {},
   "outputs": [
    {
     "data": {
      "text/plain": [
       "2022    2.791101e-13\n",
       "2023    3.148592e-13\n",
       "2024    2.964295e-13\n",
       "dtype: float64"
      ]
     },
     "execution_count": 132,
     "metadata": {},
     "output_type": "execute_result"
    }
   ],
   "source": [
    "grouped_trans.sum()"
   ]
  },
  {
   "cell_type": "code",
   "execution_count": 139,
   "id": "1f8eaf7c-f3ac-4498-8a27-045e5d421a67",
   "metadata": {},
   "outputs": [
    {
     "data": {
      "text/plain": [
       "<AxesSubplot:>"
      ]
     },
     "execution_count": 139,
     "metadata": {},
     "output_type": "execute_result"
    },
    {
     "data": {
      "image/png": "[encoded data removed]",
      "text/plain": [
       "<Figure size 432x288 with 1 Axes>"
      ]
     },
     "metadata": {
      "needs_background": "light"
     },
     "output_type": "display_data"
    }
   ],
   "source": [
    "pd.DataFrame({\"Original Data\":ts,\"Transformed Data\":transformed}).plot()"
   ]
  },
  {
   "cell_type": "code",
   "execution_count": 140,
   "id": "057e7aa3-ccee-4171-b337-2d0dcaecef5b",
   "metadata": {},
   "outputs": [],
   "source": [
    "# Try ou some plotting\n",
    "N = 1200\n",
    "df = pd.DataFrame({\n",
    "    \"Apple\": np.cumsum(rng.random(N)),\n",
    "    \"Banana\": np.cumsum(rng.random(N)),\n",
    "    \"Grapes\": np.cumsum(rng.random(N)),\n",
    "    \"Avagardo\": np.cumsum(rng.random(N)),\n",
    "    \"WaterMelon\": np.cumsum(rng.random(N))\n",
    "})\n",
    "# Taking random number of fruits\n",
    "#cumsum() function is used when we want to compute the cumulative sum of array elements over a given axis. "
   ]
  },
  {
   "cell_type": "code",
   "execution_count": 151,
   "id": "a2864d4e-d27d-4dfa-9b67-92364adc2575",
   "metadata": {},
   "outputs": [
    {
     "data": {
      "text/plain": [
       "<AxesSubplot:>"
      ]
     },
     "execution_count": 151,
     "metadata": {},
     "output_type": "execute_result"
    },
    {
     "data": {
      "image/png": "[encoded data removed]",
      "text/plain": [
       "<Figure size 1080x864 with 1 Axes>"
      ]
     },
     "metadata": {
      "needs_background": "light"
     },
     "output_type": "display_data"
    }
   ],
   "source": [
    "df.plot(figsize =[15,12])"
   ]
  },
  {
   "cell_type": "code",
   "execution_count": 150,
   "id": "62854d1b-3427-48c0-be8f-a5fda2950381",
   "metadata": {},
   "outputs": [
    {
     "data": {
      "text/plain": [
       "array([[<AxesSubplot:title={'center':'Apple'}>,\n",
       "        <AxesSubplot:title={'center':'Banana'}>],\n",
       "       [<AxesSubplot:title={'center':'Grapes'}>,\n",
       "        <AxesSubplot:title={'center':'Avagardo'}>],\n",
       "       [<AxesSubplot:title={'center':'WaterMelon'}>, <AxesSubplot:>]],\n",
       "      dtype=object)"
      ]
     },
     "execution_count": 150,
     "metadata": {},
     "output_type": "execute_result"
    },
    {
     "data": {
      "image/png": "[encoded data removed]",
      "text/plain": [
       "<Figure size 1080x864 with 6 Axes>"
      ]
     },
     "metadata": {
      "needs_background": "light"
     },
     "output_type": "display_data"
    }
   ],
   "source": [
    "df.hist(figsize =[15, 12])"
   ]
  },
  {
   "cell_type": "markdown",
   "id": "abd1432e-6f81-425e-901a-8030c90ee18f",
   "metadata": {},
   "source": [
    "## Memory Usage of DataFrames"
   ]
  },
  {
   "cell_type": "code",
   "execution_count": 157,
   "id": "fcaae658-2375-4a40-989c-863f53b6c62c",
   "metadata": {},
   "outputs": [
    {
     "data": {
      "text/html": [
       "<div>\n",
       "<style scoped>\n",
       "    .dataframe tbody tr th:only-of-type {\n",
       "        vertical-align: middle;\n",
       "    }\n",
       "\n",
       "    .dataframe tbody tr th {\n",
       "        vertical-align: top;\n",
       "    }\n",
       "\n",
       "    .dataframe thead th {\n",
       "        text-align: right;\n",
       "    }\n",
       "</style>\n",
       "<table border=\"1\" class=\"dataframe\">\n",
       "  <thead>\n",
       "    <tr style=\"text-align: right;\">\n",
       "      <th></th>\n",
       "      <th>a</th>\n",
       "      <th>b</th>\n",
       "      <th>c</th>\n",
       "      <th>d</th>\n",
       "      <th>e</th>\n",
       "      <th>f</th>\n",
       "    </tr>\n",
       "  </thead>\n",
       "  <tbody>\n",
       "    <tr>\n",
       "      <th>0</th>\n",
       "      <td>0.773956</td>\n",
       "      <td>0.438878</td>\n",
       "      <td>0.858598</td>\n",
       "      <td>0.697368</td>\n",
       "      <td>0.094177</td>\n",
       "      <td>0.975622</td>\n",
       "    </tr>\n",
       "    <tr>\n",
       "      <th>1</th>\n",
       "      <td>0.761140</td>\n",
       "      <td>0.786064</td>\n",
       "      <td>0.128114</td>\n",
       "      <td>0.450386</td>\n",
       "      <td>0.370798</td>\n",
       "      <td>0.926765</td>\n",
       "    </tr>\n",
       "    <tr>\n",
       "      <th>2</th>\n",
       "      <td>0.643865</td>\n",
       "      <td>0.822762</td>\n",
       "      <td>0.443414</td>\n",
       "      <td>0.227239</td>\n",
       "      <td>0.554585</td>\n",
       "      <td>0.063817</td>\n",
       "    </tr>\n",
       "    <tr>\n",
       "      <th>3</th>\n",
       "      <td>0.827631</td>\n",
       "      <td>0.631664</td>\n",
       "      <td>0.758088</td>\n",
       "      <td>0.354526</td>\n",
       "      <td>0.970698</td>\n",
       "      <td>0.893121</td>\n",
       "    </tr>\n",
       "    <tr>\n",
       "      <th>4</th>\n",
       "      <td>0.778383</td>\n",
       "      <td>0.194639</td>\n",
       "      <td>0.466721</td>\n",
       "      <td>0.043804</td>\n",
       "      <td>0.154289</td>\n",
       "      <td>0.683049</td>\n",
       "    </tr>\n",
       "    <tr>\n",
       "      <th>...</th>\n",
       "      <td>...</td>\n",
       "      <td>...</td>\n",
       "      <td>...</td>\n",
       "      <td>...</td>\n",
       "      <td>...</td>\n",
       "      <td>...</td>\n",
       "    </tr>\n",
       "    <tr>\n",
       "      <th>9999995</th>\n",
       "      <td>0.299634</td>\n",
       "      <td>0.248661</td>\n",
       "      <td>0.306975</td>\n",
       "      <td>0.255873</td>\n",
       "      <td>0.598481</td>\n",
       "      <td>0.554923</td>\n",
       "    </tr>\n",
       "    <tr>\n",
       "      <th>9999996</th>\n",
       "      <td>0.682144</td>\n",
       "      <td>0.095328</td>\n",
       "      <td>0.342927</td>\n",
       "      <td>0.788157</td>\n",
       "      <td>0.567434</td>\n",
       "      <td>0.874902</td>\n",
       "    </tr>\n",
       "    <tr>\n",
       "      <th>9999997</th>\n",
       "      <td>0.033573</td>\n",
       "      <td>0.824098</td>\n",
       "      <td>0.843736</td>\n",
       "      <td>0.246748</td>\n",
       "      <td>0.435312</td>\n",
       "      <td>0.581496</td>\n",
       "    </tr>\n",
       "    <tr>\n",
       "      <th>9999998</th>\n",
       "      <td>0.008998</td>\n",
       "      <td>0.875801</td>\n",
       "      <td>0.851157</td>\n",
       "      <td>0.836119</td>\n",
       "      <td>0.474845</td>\n",
       "      <td>0.549668</td>\n",
       "    </tr>\n",
       "    <tr>\n",
       "      <th>9999999</th>\n",
       "      <td>0.748551</td>\n",
       "      <td>0.605408</td>\n",
       "      <td>0.110490</td>\n",
       "      <td>0.857611</td>\n",
       "      <td>0.793263</td>\n",
       "      <td>0.183360</td>\n",
       "    </tr>\n",
       "  </tbody>\n",
       "</table>\n",
       "<p>10000000 rows × 6 columns</p>\n",
       "</div>"
      ],
      "text/plain": [
       "                a         b         c         d         e         f\n",
       "0        0.773956  0.438878  0.858598  0.697368  0.094177  0.975622\n",
       "1        0.761140  0.786064  0.128114  0.450386  0.370798  0.926765\n",
       "2        0.643865  0.822762  0.443414  0.227239  0.554585  0.063817\n",
       "3        0.827631  0.631664  0.758088  0.354526  0.970698  0.893121\n",
       "4        0.778383  0.194639  0.466721  0.043804  0.154289  0.683049\n",
       "...           ...       ...       ...       ...       ...       ...\n",
       "9999995  0.299634  0.248661  0.306975  0.255873  0.598481  0.554923\n",
       "9999996  0.682144  0.095328  0.342927  0.788157  0.567434  0.874902\n",
       "9999997  0.033573  0.824098  0.843736  0.246748  0.435312  0.581496\n",
       "9999998  0.008998  0.875801  0.851157  0.836119  0.474845  0.549668\n",
       "9999999  0.748551  0.605408  0.110490  0.857611  0.793263  0.183360\n",
       "\n",
       "[10000000 rows x 6 columns]"
      ]
     },
     "execution_count": 157,
     "metadata": {},
     "output_type": "execute_result"
    }
   ],
   "source": [
    "rng = np.random.default_rng(42) # Random-Number-Generator  # 42 is a standard number taken for the following\n",
    "data = rng.random((10_000_000,6)) # 1000000 rows with 6 coumns\n",
    "df = pd.DataFrame(data,columns = list(\"abcdef\")) # don have to use {,} in the columns list\n",
    "df"
   ]
  },
  {
   "cell_type": "code",
   "execution_count": 159,
   "id": "4759c66c-4473-435a-95dc-bbf90f8f1d76",
   "metadata": {},
   "outputs": [
    {
     "name": "stdout",
     "output_type": "stream",
     "text": [
      "<class 'pandas.core.frame.DataFrame'>\n",
      "RangeIndex: 10000000 entries, 0 to 9999999\n",
      "Data columns (total 6 columns):\n",
      " #   Column  Dtype  \n",
      "---  ------  -----  \n",
      " 0   a       float64\n",
      " 1   b       float64\n",
      " 2   c       float64\n",
      " 3   d       float64\n",
      " 4   e       float64\n",
      " 5   f       float64\n",
      "dtypes: float64(6)\n",
      "memory usage: 457.8 MB\n"
     ]
    }
   ],
   "source": [
    "df.info(memory_usage=\"deep\") # signifient memory is used in such calculations"
   ]
  },
  {
   "cell_type": "code",
   "execution_count": 160,
   "id": "7d349622-c5b6-49cc-99bc-727d2ac8339b",
   "metadata": {},
   "outputs": [],
   "source": [
    "# clipboard \n",
    "df = pd.read_clipboard() # i have defined this table in my Number application and coppied it "
   ]
  },
  {
   "cell_type": "code",
   "execution_count": 161,
   "id": "2df2b3f5-9ad2-4932-a550-ab9fac0db7f0",
   "metadata": {},
   "outputs": [
    {
     "data": {
      "text/html": [
       "<div>\n",
       "<style scoped>\n",
       "    .dataframe tbody tr th:only-of-type {\n",
       "        vertical-align: middle;\n",
       "    }\n",
       "\n",
       "    .dataframe tbody tr th {\n",
       "        vertical-align: top;\n",
       "    }\n",
       "\n",
       "    .dataframe thead th {\n",
       "        text-align: right;\n",
       "    }\n",
       "</style>\n",
       "<table border=\"1\" class=\"dataframe\">\n",
       "  <thead>\n",
       "    <tr style=\"text-align: right;\">\n",
       "      <th></th>\n",
       "      <th>a</th>\n",
       "      <th>b</th>\n",
       "      <th>c</th>\n",
       "    </tr>\n",
       "  </thead>\n",
       "  <tbody>\n",
       "    <tr>\n",
       "      <th>Maths</th>\n",
       "      <td>12</td>\n",
       "      <td>12</td>\n",
       "      <td>34</td>\n",
       "    </tr>\n",
       "    <tr>\n",
       "      <th>Physics</th>\n",
       "      <td>23</td>\n",
       "      <td>34</td>\n",
       "      <td>56</td>\n",
       "    </tr>\n",
       "    <tr>\n",
       "      <th>Chemistry</th>\n",
       "      <td>44</td>\n",
       "      <td>56</td>\n",
       "      <td>76</td>\n",
       "    </tr>\n",
       "    <tr>\n",
       "      <th>English</th>\n",
       "      <td>56</td>\n",
       "      <td>77</td>\n",
       "      <td>43</td>\n",
       "    </tr>\n",
       "  </tbody>\n",
       "</table>\n",
       "</div>"
      ],
      "text/plain": [
       "            a   b   c\n",
       "Maths      12  12  34\n",
       "Physics    23  34  56\n",
       "Chemistry  44  56  76\n",
       "English    56  77  43"
      ]
     },
     "execution_count": 161,
     "metadata": {},
     "output_type": "execute_result"
    }
   ],
   "source": [
    "df"
   ]
  },
  {
   "cell_type": "markdown",
   "id": "78c03a2e-205f-4ebc-af76-783854e7e24b",
   "metadata": {},
   "source": [
    "# SubSampeling applica"
   ]
  },
  {
   "cell_type": "code",
   "execution_count": 163,
   "id": "b4b099e7-a56c-444f-ae1b-da26bd6eff43",
   "metadata": {},
   "outputs": [
    {
     "data": {
      "text/html": [
       "<div>\n",
       "<style scoped>\n",
       "    .dataframe tbody tr th:only-of-type {\n",
       "        vertical-align: middle;\n",
       "    }\n",
       "\n",
       "    .dataframe tbody tr th {\n",
       "        vertical-align: top;\n",
       "    }\n",
       "\n",
       "    .dataframe thead th {\n",
       "        text-align: right;\n",
       "    }\n",
       "</style>\n",
       "<table border=\"1\" class=\"dataframe\">\n",
       "  <thead>\n",
       "    <tr style=\"text-align: right;\">\n",
       "      <th></th>\n",
       "      <th>a</th>\n",
       "      <th>b</th>\n",
       "      <th>c</th>\n",
       "      <th>d</th>\n",
       "      <th>e</th>\n",
       "      <th>f</th>\n",
       "    </tr>\n",
       "  </thead>\n",
       "  <tbody>\n",
       "    <tr>\n",
       "      <th>0</th>\n",
       "      <td>0.939485</td>\n",
       "      <td>0.480840</td>\n",
       "      <td>0.711214</td>\n",
       "      <td>0.876777</td>\n",
       "      <td>0.449014</td>\n",
       "      <td>0.573830</td>\n",
       "    </tr>\n",
       "    <tr>\n",
       "      <th>1</th>\n",
       "      <td>0.630872</td>\n",
       "      <td>0.981733</td>\n",
       "      <td>0.495770</td>\n",
       "      <td>0.745797</td>\n",
       "      <td>0.486727</td>\n",
       "      <td>0.248995</td>\n",
       "    </tr>\n",
       "    <tr>\n",
       "      <th>2</th>\n",
       "      <td>0.292372</td>\n",
       "      <td>0.818959</td>\n",
       "      <td>0.453629</td>\n",
       "      <td>0.110652</td>\n",
       "      <td>0.427098</td>\n",
       "      <td>0.645443</td>\n",
       "    </tr>\n",
       "    <tr>\n",
       "      <th>3</th>\n",
       "      <td>0.266059</td>\n",
       "      <td>0.066956</td>\n",
       "      <td>0.977548</td>\n",
       "      <td>0.837343</td>\n",
       "      <td>0.916874</td>\n",
       "      <td>0.354740</td>\n",
       "    </tr>\n",
       "    <tr>\n",
       "      <th>4</th>\n",
       "      <td>0.084256</td>\n",
       "      <td>0.707751</td>\n",
       "      <td>0.020230</td>\n",
       "      <td>0.287458</td>\n",
       "      <td>0.120280</td>\n",
       "      <td>0.742823</td>\n",
       "    </tr>\n",
       "  </tbody>\n",
       "</table>\n",
       "</div>"
      ],
      "text/plain": [
       "          a         b         c         d         e         f\n",
       "0  0.939485  0.480840  0.711214  0.876777  0.449014  0.573830\n",
       "1  0.630872  0.981733  0.495770  0.745797  0.486727  0.248995\n",
       "2  0.292372  0.818959  0.453629  0.110652  0.427098  0.645443\n",
       "3  0.266059  0.066956  0.977548  0.837343  0.916874  0.354740\n",
       "4  0.084256  0.707751  0.020230  0.287458  0.120280  0.742823"
      ]
     },
     "execution_count": 163,
     "metadata": {},
     "output_type": "execute_result"
    }
   ],
   "source": [
    "# Again, \n",
    "data = rng.random((10_000_000,6)) # 1000000 rows with 6 coumns\n",
    "df = pd.DataFrame(data,columns = list(\"abcdef\")) # don have to use {,} in the columns list\n",
    "df.head()"
   ]
  },
  {
   "cell_type": "code",
   "execution_count": 164,
   "id": "45a454de-f31a-4b56-b5a7-ab6ff562838f",
   "metadata": {},
   "outputs": [],
   "source": [
    "subsample= df.sample(frac=0.2,random_state=42)\n",
    "remaining = df.drop(subsample.index)"
   ]
  },
  {
   "cell_type": "code",
   "execution_count": 165,
   "id": "26500138-8e1c-4cb0-ba69-7ed6937e4d82",
   "metadata": {},
   "outputs": [
    {
     "data": {
      "text/html": [
       "<div>\n",
       "<style scoped>\n",
       "    .dataframe tbody tr th:only-of-type {\n",
       "        vertical-align: middle;\n",
       "    }\n",
       "\n",
       "    .dataframe tbody tr th {\n",
       "        vertical-align: top;\n",
       "    }\n",
       "\n",
       "    .dataframe thead th {\n",
       "        text-align: right;\n",
       "    }\n",
       "</style>\n",
       "<table border=\"1\" class=\"dataframe\">\n",
       "  <thead>\n",
       "    <tr style=\"text-align: right;\">\n",
       "      <th></th>\n",
       "      <th>a</th>\n",
       "      <th>b</th>\n",
       "      <th>c</th>\n",
       "      <th>d</th>\n",
       "      <th>e</th>\n",
       "      <th>f</th>\n",
       "    </tr>\n",
       "  </thead>\n",
       "  <tbody>\n",
       "    <tr>\n",
       "      <th>919213</th>\n",
       "      <td>0.356110</td>\n",
       "      <td>0.191756</td>\n",
       "      <td>0.046040</td>\n",
       "      <td>0.856137</td>\n",
       "      <td>0.317563</td>\n",
       "      <td>0.488737</td>\n",
       "    </tr>\n",
       "    <tr>\n",
       "      <th>9467153</th>\n",
       "      <td>0.824369</td>\n",
       "      <td>0.252771</td>\n",
       "      <td>0.166195</td>\n",
       "      <td>0.375175</td>\n",
       "      <td>0.802454</td>\n",
       "      <td>0.638200</td>\n",
       "    </tr>\n",
       "    <tr>\n",
       "      <th>6585777</th>\n",
       "      <td>0.485268</td>\n",
       "      <td>0.199637</td>\n",
       "      <td>0.695934</td>\n",
       "      <td>0.511827</td>\n",
       "      <td>0.427521</td>\n",
       "      <td>0.254574</td>\n",
       "    </tr>\n",
       "    <tr>\n",
       "      <th>3878022</th>\n",
       "      <td>0.816521</td>\n",
       "      <td>0.163611</td>\n",
       "      <td>0.757463</td>\n",
       "      <td>0.629404</td>\n",
       "      <td>0.059651</td>\n",
       "      <td>0.357113</td>\n",
       "    </tr>\n",
       "    <tr>\n",
       "      <th>5537116</th>\n",
       "      <td>0.218552</td>\n",
       "      <td>0.588226</td>\n",
       "      <td>0.006963</td>\n",
       "      <td>0.811061</td>\n",
       "      <td>0.209026</td>\n",
       "      <td>0.431728</td>\n",
       "    </tr>\n",
       "    <tr>\n",
       "      <th>...</th>\n",
       "      <td>...</td>\n",
       "      <td>...</td>\n",
       "      <td>...</td>\n",
       "      <td>...</td>\n",
       "      <td>...</td>\n",
       "      <td>...</td>\n",
       "    </tr>\n",
       "    <tr>\n",
       "      <th>4784587</th>\n",
       "      <td>0.855098</td>\n",
       "      <td>0.586825</td>\n",
       "      <td>0.179835</td>\n",
       "      <td>0.877552</td>\n",
       "      <td>0.958938</td>\n",
       "      <td>0.064311</td>\n",
       "    </tr>\n",
       "    <tr>\n",
       "      <th>7566769</th>\n",
       "      <td>0.656653</td>\n",
       "      <td>0.119548</td>\n",
       "      <td>0.513658</td>\n",
       "      <td>0.520586</td>\n",
       "      <td>0.111036</td>\n",
       "      <td>0.099587</td>\n",
       "    </tr>\n",
       "    <tr>\n",
       "      <th>1137587</th>\n",
       "      <td>0.077398</td>\n",
       "      <td>0.352894</td>\n",
       "      <td>0.486463</td>\n",
       "      <td>0.625706</td>\n",
       "      <td>0.650859</td>\n",
       "      <td>0.308333</td>\n",
       "    </tr>\n",
       "    <tr>\n",
       "      <th>4043855</th>\n",
       "      <td>0.559090</td>\n",
       "      <td>0.674017</td>\n",
       "      <td>0.152587</td>\n",
       "      <td>0.807654</td>\n",
       "      <td>0.229909</td>\n",
       "      <td>0.925296</td>\n",
       "    </tr>\n",
       "    <tr>\n",
       "      <th>1086940</th>\n",
       "      <td>0.220151</td>\n",
       "      <td>0.833049</td>\n",
       "      <td>0.027489</td>\n",
       "      <td>0.198938</td>\n",
       "      <td>0.527562</td>\n",
       "      <td>0.697303</td>\n",
       "    </tr>\n",
       "  </tbody>\n",
       "</table>\n",
       "<p>2000000 rows × 6 columns</p>\n",
       "</div>"
      ],
      "text/plain": [
       "                a         b         c         d         e         f\n",
       "919213   0.356110  0.191756  0.046040  0.856137  0.317563  0.488737\n",
       "9467153  0.824369  0.252771  0.166195  0.375175  0.802454  0.638200\n",
       "6585777  0.485268  0.199637  0.695934  0.511827  0.427521  0.254574\n",
       "3878022  0.816521  0.163611  0.757463  0.629404  0.059651  0.357113\n",
       "5537116  0.218552  0.588226  0.006963  0.811061  0.209026  0.431728\n",
       "...           ...       ...       ...       ...       ...       ...\n",
       "4784587  0.855098  0.586825  0.179835  0.877552  0.958938  0.064311\n",
       "7566769  0.656653  0.119548  0.513658  0.520586  0.111036  0.099587\n",
       "1137587  0.077398  0.352894  0.486463  0.625706  0.650859  0.308333\n",
       "4043855  0.559090  0.674017  0.152587  0.807654  0.229909  0.925296\n",
       "1086940  0.220151  0.833049  0.027489  0.198938  0.527562  0.697303\n",
       "\n",
       "[2000000 rows x 6 columns]"
      ]
     },
     "execution_count": 165,
     "metadata": {},
     "output_type": "execute_result"
    }
   ],
   "source": [
    "subsample # randomely mixed up."
   ]
  },
  {
   "cell_type": "code",
   "execution_count": 166,
   "id": "b005dad4-f194-41a4-afd8-f4be92750313",
   "metadata": {},
   "outputs": [
    {
     "data": {
      "text/html": [
       "<div>\n",
       "<style scoped>\n",
       "    .dataframe tbody tr th:only-of-type {\n",
       "        vertical-align: middle;\n",
       "    }\n",
       "\n",
       "    .dataframe tbody tr th {\n",
       "        vertical-align: top;\n",
       "    }\n",
       "\n",
       "    .dataframe thead th {\n",
       "        text-align: right;\n",
       "    }\n",
       "</style>\n",
       "<table border=\"1\" class=\"dataframe\">\n",
       "  <thead>\n",
       "    <tr style=\"text-align: right;\">\n",
       "      <th></th>\n",
       "      <th>a</th>\n",
       "      <th>b</th>\n",
       "      <th>c</th>\n",
       "      <th>d</th>\n",
       "      <th>e</th>\n",
       "      <th>f</th>\n",
       "    </tr>\n",
       "  </thead>\n",
       "  <tbody>\n",
       "    <tr>\n",
       "      <th>0</th>\n",
       "      <td>0.939485</td>\n",
       "      <td>0.480840</td>\n",
       "      <td>0.711214</td>\n",
       "      <td>0.876777</td>\n",
       "      <td>0.449014</td>\n",
       "      <td>0.573830</td>\n",
       "    </tr>\n",
       "    <tr>\n",
       "      <th>1</th>\n",
       "      <td>0.630872</td>\n",
       "      <td>0.981733</td>\n",
       "      <td>0.495770</td>\n",
       "      <td>0.745797</td>\n",
       "      <td>0.486727</td>\n",
       "      <td>0.248995</td>\n",
       "    </tr>\n",
       "    <tr>\n",
       "      <th>3</th>\n",
       "      <td>0.266059</td>\n",
       "      <td>0.066956</td>\n",
       "      <td>0.977548</td>\n",
       "      <td>0.837343</td>\n",
       "      <td>0.916874</td>\n",
       "      <td>0.354740</td>\n",
       "    </tr>\n",
       "    <tr>\n",
       "      <th>4</th>\n",
       "      <td>0.084256</td>\n",
       "      <td>0.707751</td>\n",
       "      <td>0.020230</td>\n",
       "      <td>0.287458</td>\n",
       "      <td>0.120280</td>\n",
       "      <td>0.742823</td>\n",
       "    </tr>\n",
       "    <tr>\n",
       "      <th>5</th>\n",
       "      <td>0.108768</td>\n",
       "      <td>0.567865</td>\n",
       "      <td>0.193116</td>\n",
       "      <td>0.875335</td>\n",
       "      <td>0.044182</td>\n",
       "      <td>0.965933</td>\n",
       "    </tr>\n",
       "    <tr>\n",
       "      <th>...</th>\n",
       "      <td>...</td>\n",
       "      <td>...</td>\n",
       "      <td>...</td>\n",
       "      <td>...</td>\n",
       "      <td>...</td>\n",
       "      <td>...</td>\n",
       "    </tr>\n",
       "    <tr>\n",
       "      <th>9999995</th>\n",
       "      <td>0.104109</td>\n",
       "      <td>0.283116</td>\n",
       "      <td>0.569718</td>\n",
       "      <td>0.205095</td>\n",
       "      <td>0.595096</td>\n",
       "      <td>0.079059</td>\n",
       "    </tr>\n",
       "    <tr>\n",
       "      <th>9999996</th>\n",
       "      <td>0.273411</td>\n",
       "      <td>0.162654</td>\n",
       "      <td>0.173955</td>\n",
       "      <td>0.180698</td>\n",
       "      <td>0.085945</td>\n",
       "      <td>0.824358</td>\n",
       "    </tr>\n",
       "    <tr>\n",
       "      <th>9999997</th>\n",
       "      <td>0.368485</td>\n",
       "      <td>0.630131</td>\n",
       "      <td>0.753969</td>\n",
       "      <td>0.687876</td>\n",
       "      <td>0.474939</td>\n",
       "      <td>0.257797</td>\n",
       "    </tr>\n",
       "    <tr>\n",
       "      <th>9999998</th>\n",
       "      <td>0.205795</td>\n",
       "      <td>0.673256</td>\n",
       "      <td>0.180128</td>\n",
       "      <td>0.172435</td>\n",
       "      <td>0.745576</td>\n",
       "      <td>0.460111</td>\n",
       "    </tr>\n",
       "    <tr>\n",
       "      <th>9999999</th>\n",
       "      <td>0.413974</td>\n",
       "      <td>0.009749</td>\n",
       "      <td>0.014941</td>\n",
       "      <td>0.174023</td>\n",
       "      <td>0.867718</td>\n",
       "      <td>0.245509</td>\n",
       "    </tr>\n",
       "  </tbody>\n",
       "</table>\n",
       "<p>8000000 rows × 6 columns</p>\n",
       "</div>"
      ],
      "text/plain": [
       "                a         b         c         d         e         f\n",
       "0        0.939485  0.480840  0.711214  0.876777  0.449014  0.573830\n",
       "1        0.630872  0.981733  0.495770  0.745797  0.486727  0.248995\n",
       "3        0.266059  0.066956  0.977548  0.837343  0.916874  0.354740\n",
       "4        0.084256  0.707751  0.020230  0.287458  0.120280  0.742823\n",
       "5        0.108768  0.567865  0.193116  0.875335  0.044182  0.965933\n",
       "...           ...       ...       ...       ...       ...       ...\n",
       "9999995  0.104109  0.283116  0.569718  0.205095  0.595096  0.079059\n",
       "9999996  0.273411  0.162654  0.173955  0.180698  0.085945  0.824358\n",
       "9999997  0.368485  0.630131  0.753969  0.687876  0.474939  0.257797\n",
       "9999998  0.205795  0.673256  0.180128  0.172435  0.745576  0.460111\n",
       "9999999  0.413974  0.009749  0.014941  0.174023  0.867718  0.245509\n",
       "\n",
       "[8000000 rows x 6 columns]"
      ]
     },
     "execution_count": 166,
     "metadata": {},
     "output_type": "execute_result"
    }
   ],
   "source": [
    "remaining"
   ]
  },
  {
   "cell_type": "code",
   "execution_count": null,
   "id": "986273e6-9567-40af-91f4-beab75581557",
   "metadata": {},
   "outputs": [],
   "source": []
  }
 ],
 "metadata": {
  "kernelspec": {
   "display_name": "Python 3",
   "language": "python",
   "name": "python3"
  },
  "language_info": {
   "codemirror_mode": {
    "name": "ipython",
    "version": 3
   },
   "file_extension": ".py",
   "mimetype": "text/x-python",
   "name": "python",
   "nbconvert_exporter": "python",
   "pygments_lexer": "ipython3",
   "version": "3.8.8"
  }
 },
 "nbformat": 4,
 "nbformat_minor": 5
}
